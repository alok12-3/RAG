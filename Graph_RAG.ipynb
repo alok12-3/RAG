{
  "nbformat": 4,
  "nbformat_minor": 0,
  "metadata": {
    "colab": {
      "provenance": []
    },
    "kernelspec": {
      "name": "python3",
      "display_name": "Python 3"
    },
    "language_info": {
      "name": "python"
    }
  },
  "cells": [
    {
      "cell_type": "markdown",
      "source": [
        "# I HAVE IMPLEMENTED GRAPH RAG ON PREPROCESSED CSV DATASET\n",
        "\n",
        "# **NOTE: If you want to view the result, please scroll down to the bottom.**\n",
        "\n",
        "# But if you want to understand my approach, go through it line by line"
      ],
      "metadata": {
        "id": "h4uhTSjHyNj0"
      }
    },
    {
      "cell_type": "code",
      "source": [
        "# prompt: mount gdrive\n",
        "\n",
        "from google.colab import drive\n",
        "drive.mount('/content/drive')\n"
      ],
      "metadata": {
        "colab": {
          "base_uri": "https://localhost:8080/"
        },
        "id": "juE3vIVu6jcF",
        "outputId": "ada9e14c-5765-47a9-b197-0fbabfa79f79"
      },
      "execution_count": 1,
      "outputs": [
        {
          "output_type": "stream",
          "name": "stdout",
          "text": [
            "Mounted at /content/drive\n"
          ]
        }
      ]
    },
    {
      "cell_type": "code",
      "source": [
        "%pip install -q -U  langchain langchain-community langchain-openai langchain-experimental neo4j   yfiles_jupyter_graphs"
      ],
      "metadata": {
        "colab": {
          "base_uri": "https://localhost:8080/"
        },
        "id": "usWcdmOr7GAH",
        "outputId": "e947420a-018d-48d6-fadc-0ea07e4162fe"
      },
      "execution_count": 2,
      "outputs": [
        {
          "output_type": "stream",
          "name": "stdout",
          "text": [
            "  Preparing metadata (setup.py) ... \u001b[?25l\u001b[?25hdone\n",
            "\u001b[2K   \u001b[90m━━━━━━━━━━━━━━━━━━━━━━━━━━━━━━━━━━━━━━━━\u001b[0m \u001b[32m1.0/1.0 MB\u001b[0m \u001b[31m15.7 MB/s\u001b[0m eta \u001b[36m0:00:00\u001b[0m\n",
            "\u001b[2K   \u001b[90m━━━━━━━━━━━━━━━━━━━━━━━━━━━━━━━━━━━━━━━━\u001b[0m \u001b[32m2.5/2.5 MB\u001b[0m \u001b[31m64.7 MB/s\u001b[0m eta \u001b[36m0:00:00\u001b[0m\n",
            "\u001b[2K   \u001b[90m━━━━━━━━━━━━━━━━━━━━━━━━━━━━━━━━━━━━━━━━\u001b[0m \u001b[32m50.9/50.9 kB\u001b[0m \u001b[31m3.2 MB/s\u001b[0m eta \u001b[36m0:00:00\u001b[0m\n",
            "\u001b[2K   \u001b[90m━━━━━━━━━━━━━━━━━━━━━━━━━━━━━━━━━━━━━━━━\u001b[0m \u001b[32m209.0/209.0 kB\u001b[0m \u001b[31m13.0 MB/s\u001b[0m eta \u001b[36m0:00:00\u001b[0m\n",
            "\u001b[2K   \u001b[90m━━━━━━━━━━━━━━━━━━━━━━━━━━━━━━━━━━━━━━━━\u001b[0m \u001b[32m301.7/301.7 kB\u001b[0m \u001b[31m17.4 MB/s\u001b[0m eta \u001b[36m0:00:00\u001b[0m\n",
            "\u001b[2K   \u001b[90m━━━━━━━━━━━━━━━━━━━━━━━━━━━━━━━━━━━━━━━━\u001b[0m \u001b[32m1.2/1.2 MB\u001b[0m \u001b[31m49.1 MB/s\u001b[0m eta \u001b[36m0:00:00\u001b[0m\n",
            "\u001b[2K   \u001b[90m━━━━━━━━━━━━━━━━━━━━━━━━━━━━━━━━━━━━━━━━\u001b[0m \u001b[32m15.5/15.5 MB\u001b[0m \u001b[31m27.7 MB/s\u001b[0m eta \u001b[36m0:00:00\u001b[0m\n",
            "\u001b[2K   \u001b[90m━━━━━━━━━━━━━━━━━━━━━━━━━━━━━━━━━━━━━━━━\u001b[0m \u001b[32m139.8/139.8 kB\u001b[0m \u001b[31m8.1 MB/s\u001b[0m eta \u001b[36m0:00:00\u001b[0m\n",
            "\u001b[2K   \u001b[90m━━━━━━━━━━━━━━━━━━━━━━━━━━━━━━━━━━━━━━━━\u001b[0m \u001b[32m411.6/411.6 kB\u001b[0m \u001b[31m23.1 MB/s\u001b[0m eta \u001b[36m0:00:00\u001b[0m\n",
            "\u001b[2K   \u001b[90m━━━━━━━━━━━━━━━━━━━━━━━━━━━━━━━━━━━━━━━━\u001b[0m \u001b[32m454.3/454.3 kB\u001b[0m \u001b[31m23.6 MB/s\u001b[0m eta \u001b[36m0:00:00\u001b[0m\n",
            "\u001b[2K   \u001b[90m━━━━━━━━━━━━━━━━━━━━━━━━━━━━━━━━━━━━━━━━\u001b[0m \u001b[32m49.3/49.3 kB\u001b[0m \u001b[31m3.1 MB/s\u001b[0m eta \u001b[36m0:00:00\u001b[0m\n",
            "\u001b[2K   \u001b[90m━━━━━━━━━━━━━━━━━━━━━━━━━━━━━━━━━━━━━━━━\u001b[0m \u001b[32m2.3/2.3 MB\u001b[0m \u001b[31m71.1 MB/s\u001b[0m eta \u001b[36m0:00:00\u001b[0m\n",
            "\u001b[2K   \u001b[90m━━━━━━━━━━━━━━━━━━━━━━━━━━━━━━━━━━━━━━━━\u001b[0m \u001b[32m1.6/1.6 MB\u001b[0m \u001b[31m53.8 MB/s\u001b[0m eta \u001b[36m0:00:00\u001b[0m\n",
            "\u001b[?25h  Building wheel for wikipedia (setup.py) ... \u001b[?25l\u001b[?25hdone\n"
          ]
        }
      ]
    },
    {
      "cell_type": "code",
      "source": [
        "from langchain_core.runnables import (\n",
        "    RunnableBranch,\n",
        "    RunnableLambda,\n",
        "    RunnableParallel,\n",
        "    RunnablePassthrough,\n",
        ")"
      ],
      "metadata": {
        "id": "q8EzdaTJFTbx"
      },
      "execution_count": 3,
      "outputs": []
    },
    {
      "cell_type": "code",
      "source": [
        "from langchain_core.prompts import ChatPromptTemplate\n",
        "from langchain_core.prompts.prompt import PromptTemplate"
      ],
      "metadata": {
        "id": "vKkxxyasFWPh"
      },
      "execution_count": 4,
      "outputs": []
    },
    {
      "cell_type": "code",
      "source": [
        "from typing import Tuple, List, Optional"
      ],
      "metadata": {
        "id": "GCEgNy7LFXS4"
      },
      "execution_count": 5,
      "outputs": []
    },
    {
      "cell_type": "code",
      "source": [
        "from langchain_core.runnables import ConfigurableField"
      ],
      "metadata": {
        "id": "nitfT-ktFaQQ"
      },
      "execution_count": 7,
      "outputs": []
    },
    {
      "cell_type": "code",
      "source": [
        "from yfiles_jupyter_graphs import GraphWidget\n",
        "from neo4j import GraphDatabase\n"
      ],
      "metadata": {
        "id": "fzOPupw0FaSy"
      },
      "execution_count": 8,
      "outputs": []
    },
    {
      "cell_type": "code",
      "source": [
        "import os"
      ],
      "metadata": {
        "id": "g6kjt1HkFaVZ"
      },
      "execution_count": 9,
      "outputs": []
    },
    {
      "cell_type": "code",
      "source": [
        "try:\n",
        "  import google.colab\n",
        "  from google.colab import output\n",
        "  output.enable_custom_widget_manager()\n",
        "except:\n",
        "  pass"
      ],
      "metadata": {
        "id": "IR5TLMjpFhE-"
      },
      "execution_count": 10,
      "outputs": []
    },
    {
      "cell_type": "code",
      "source": [
        "from langchain_community.vectorstores import Neo4jVector"
      ],
      "metadata": {
        "id": "pSgOwI9SFhHr"
      },
      "execution_count": 11,
      "outputs": []
    },
    {
      "cell_type": "code",
      "source": [
        "!pip install -qU langchain-groq"
      ],
      "metadata": {
        "colab": {
          "base_uri": "https://localhost:8080/"
        },
        "id": "iIvy4gQjPHCB",
        "outputId": "88780d52-01a8-44e9-c3dc-3fa966efdbb2"
      },
      "execution_count": 12,
      "outputs": [
        {
          "output_type": "stream",
          "name": "stdout",
          "text": [
            "\u001b[?25l   \u001b[90m━━━━━━━━━━━━━━━━━━━━━━━━━━━━━━━━━━━━━━━━\u001b[0m \u001b[32m0.0/109.1 kB\u001b[0m \u001b[31m?\u001b[0m eta \u001b[36m-:--:--\u001b[0m\r\u001b[2K   \u001b[91m━━━━━━━━━━━━━━━━━━━━━━━━━━━━━━━━━━━━━\u001b[0m\u001b[91m╸\u001b[0m\u001b[90m━━\u001b[0m \u001b[32m102.4/109.1 kB\u001b[0m \u001b[31m3.6 MB/s\u001b[0m eta \u001b[36m0:00:01\u001b[0m\r\u001b[2K   \u001b[90m━━━━━━━━━━━━━━━━━━━━━━━━━━━━━━━━━━━━━━━━\u001b[0m \u001b[32m109.1/109.1 kB\u001b[0m \u001b[31m2.3 MB/s\u001b[0m eta \u001b[36m0:00:00\u001b[0m\n",
            "\u001b[?25h"
          ]
        }
      ]
    },
    {
      "cell_type": "markdown",
      "source": [
        "MY GPU CREDITS OF COLLAB GOT EXHAUSTED SO I CANNOT RUN LLM ON MY COLAB GPU SO I HAVE USED GROQ TO RUN LLM"
      ],
      "metadata": {
        "id": "7VbWd3MLt_rw"
      }
    },
    {
      "cell_type": "code",
      "source": [
        "\n",
        "import os\n",
        "\n",
        "os.environ[\"GROQ_API_KEY\"] = \"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\"\n",
        "\n"
      ],
      "metadata": {
        "id": "YKymoQOEPK6G"
      },
      "execution_count": 13,
      "outputs": []
    },
    {
      "cell_type": "code",
      "source": [
        "from langchain_groq import ChatGroq\n",
        "\n",
        "llm = ChatGroq(\n",
        "    model=\"llama3-groq-70b-8192-tool-use-preview\",\n",
        "    temperature=0.8,\n",
        "    max_tokens=None,\n",
        "    timeout=None,\n",
        "    max_retries=2,\n",
        "    # other params...\n",
        ")"
      ],
      "metadata": {
        "id": "HaHCkUk6PQsl"
      },
      "execution_count": 179,
      "outputs": []
    },
    {
      "cell_type": "markdown",
      "source": [
        "# I have converted processed csv file to graph and exported to neo4y and here are my credentials you can visit and see if you want\n",
        "\n",
        "\n",
        "\n"
      ],
      "metadata": {
        "id": "oac_iS5duYn7"
      }
    },
    {
      "cell_type": "code",
      "source": [
        "import os\n",
        "\n",
        "from langchain_community.graphs import Neo4jGraph\n",
        "\n",
        "os.environ[\"NEO4J_URI\"] = \"neo4j+s://d79534a9.databases.neo4j.io\"\n",
        "os.environ[\"NEO4J_USERNAME\"] = \"neo4j\"\n",
        "os.environ[\"NEO4J_PASSWORD\"] = \"jdFFQBmPmwqPaC1lmRpSTjRxOr5n9uZ1kmuGBBmZiig\"\n",
        "os.environ[\"AURA_INSTANCEID\"]=\"d79534a9\"\n",
        "os.environ[\"AURA_INSTANCENAME\"]=\"Instance01\"\n",
        "\n",
        "\n",
        "\n",
        "graph = Neo4jGraph()"
      ],
      "metadata": {
        "id": "eZGQbskvPU9T"
      },
      "execution_count": 132,
      "outputs": []
    },
    {
      "cell_type": "code",
      "source": [
        "from langchain_community.document_loaders.csv_loader import CSVLoader\n",
        "from langchain.text_splitter import CharacterTextSplitter\n",
        "from langchain.embeddings import HuggingFaceEmbeddings\n",
        "\n",
        "loader = CSVLoader(file_path='/content/drive/MyDrive/1graph_rag/graph_rag_csv_data.csv')\n",
        "data = loader.load()\n",
        "\n",
        "text_splitter = CharacterTextSplitter(chunk_size=500, chunk_overlap=0)\n",
        "chunked_docs  = text_splitter.split_documents(data)"
      ],
      "metadata": {
        "id": "CJP-ym_X6SlN"
      },
      "execution_count": 19,
      "outputs": []
    },
    {
      "cell_type": "markdown",
      "source": [
        "# HERE I HAVE LOADED MY PRE PROCESSESD DATA  AND KEPT ONLY THAT INFORMATION WHCIH ARE USEFULL"
      ],
      "metadata": {
        "id": "TlL84eurvRyS"
      }
    },
    {
      "cell_type": "code",
      "source": [
        "import pandas as pd\n",
        "from google.colab import drive\n",
        "\n",
        "\n",
        "df = pd.read_csv('/content/drive/MyDrive/1graph_rag/graph_rag_csv_data.csv')\n",
        "df.head()"
      ],
      "metadata": {
        "colab": {
          "base_uri": "https://localhost:8080/",
          "height": 414
        },
        "id": "yuLN1eGH8vHb",
        "outputId": "c8120761-8005-4221-c040-3c78f07dc696"
      },
      "execution_count": 24,
      "outputs": [
        {
          "output_type": "execute_result",
          "data": {
            "text/plain": [
              "  Car manufacturer (make)           Model  Year  \\\n",
              "0                    ford           FOCUS  2000   \n",
              "1                    ford           FOCUS  2001   \n",
              "2                    ford  CROWN VICTORIA  2002   \n",
              "3                    ford       NAVIGATOR  2000   \n",
              "4                    ford      EXPEDITION  2000   \n",
              "\n",
              "                                               Issue  \\\n",
              "0  CERTAIN PASSENGER VEHICLES EQUIPPED WITH ZETEC...   \n",
              "1  CERTAIN PASSENGER VEHICLES EQUIPPED WITH ZETEC...   \n",
              "2  ON CERTAIN NATURAL GAS MODEL VEHICLES, A T-FIT...   \n",
              "3  CERTAIN 4X2 SPORT UTILITY VEHICLES FAIL TO COM...   \n",
              "4  CERTAIN 4X2 SPORT UTILITY VEHICLES FAIL TO COM...   \n",
              "\n",
              "                                     potential risks  \\\n",
              "0  THIS, IN TURN, COULD CAUSE THE BATTERY CABLES ...   \n",
              "1  THIS, IN TURN, COULD CAUSE THE BATTERY CABLES ...   \n",
              "2  A GAS LEAK OF SUFFICIENT QUANTITY CONCENTRATED...   \n",
              "3  CUSTOMERS MAY INFLATE THEIR REAR TIRES BASED O...   \n",
              "4  CUSTOMERS MAY INFLATE THEIR REAR TIRES BASED O...   \n",
              "\n",
              "                                        Action Taken  \n",
              "0  DEALERS WILL INSPECT THE BATTERY CABLES FOR TH...  \n",
              "1  DEALERS WILL INSPECT THE BATTERY CABLES FOR TH...  \n",
              "2  DEALERS WILL INSTALL A REDESIGNED \"T\" FITTING ...  \n",
              "3  A SUPPLEMENTARY LABEL WILL BE SENT TO CUSTOMER...  \n",
              "4  A SUPPLEMENTARY LABEL WILL BE SENT TO CUSTOMER...  "
            ],
            "text/html": [
              "\n",
              "  <div id=\"df-9bf5b176-6888-4d3f-a872-90b291676419\" class=\"colab-df-container\">\n",
              "    <div>\n",
              "<style scoped>\n",
              "    .dataframe tbody tr th:only-of-type {\n",
              "        vertical-align: middle;\n",
              "    }\n",
              "\n",
              "    .dataframe tbody tr th {\n",
              "        vertical-align: top;\n",
              "    }\n",
              "\n",
              "    .dataframe thead th {\n",
              "        text-align: right;\n",
              "    }\n",
              "</style>\n",
              "<table border=\"1\" class=\"dataframe\">\n",
              "  <thead>\n",
              "    <tr style=\"text-align: right;\">\n",
              "      <th></th>\n",
              "      <th>Car manufacturer (make)</th>\n",
              "      <th>Model</th>\n",
              "      <th>Year</th>\n",
              "      <th>Issue</th>\n",
              "      <th>potential risks</th>\n",
              "      <th>Action Taken</th>\n",
              "    </tr>\n",
              "  </thead>\n",
              "  <tbody>\n",
              "    <tr>\n",
              "      <th>0</th>\n",
              "      <td>ford</td>\n",
              "      <td>FOCUS</td>\n",
              "      <td>2000</td>\n",
              "      <td>CERTAIN PASSENGER VEHICLES EQUIPPED WITH ZETEC...</td>\n",
              "      <td>THIS, IN TURN, COULD CAUSE THE BATTERY CABLES ...</td>\n",
              "      <td>DEALERS WILL INSPECT THE BATTERY CABLES FOR TH...</td>\n",
              "    </tr>\n",
              "    <tr>\n",
              "      <th>1</th>\n",
              "      <td>ford</td>\n",
              "      <td>FOCUS</td>\n",
              "      <td>2001</td>\n",
              "      <td>CERTAIN PASSENGER VEHICLES EQUIPPED WITH ZETEC...</td>\n",
              "      <td>THIS, IN TURN, COULD CAUSE THE BATTERY CABLES ...</td>\n",
              "      <td>DEALERS WILL INSPECT THE BATTERY CABLES FOR TH...</td>\n",
              "    </tr>\n",
              "    <tr>\n",
              "      <th>2</th>\n",
              "      <td>ford</td>\n",
              "      <td>CROWN VICTORIA</td>\n",
              "      <td>2002</td>\n",
              "      <td>ON CERTAIN NATURAL GAS MODEL VEHICLES, A T-FIT...</td>\n",
              "      <td>A GAS LEAK OF SUFFICIENT QUANTITY CONCENTRATED...</td>\n",
              "      <td>DEALERS WILL INSTALL A REDESIGNED \"T\" FITTING ...</td>\n",
              "    </tr>\n",
              "    <tr>\n",
              "      <th>3</th>\n",
              "      <td>ford</td>\n",
              "      <td>NAVIGATOR</td>\n",
              "      <td>2000</td>\n",
              "      <td>CERTAIN 4X2 SPORT UTILITY VEHICLES FAIL TO COM...</td>\n",
              "      <td>CUSTOMERS MAY INFLATE THEIR REAR TIRES BASED O...</td>\n",
              "      <td>A SUPPLEMENTARY LABEL WILL BE SENT TO CUSTOMER...</td>\n",
              "    </tr>\n",
              "    <tr>\n",
              "      <th>4</th>\n",
              "      <td>ford</td>\n",
              "      <td>EXPEDITION</td>\n",
              "      <td>2000</td>\n",
              "      <td>CERTAIN 4X2 SPORT UTILITY VEHICLES FAIL TO COM...</td>\n",
              "      <td>CUSTOMERS MAY INFLATE THEIR REAR TIRES BASED O...</td>\n",
              "      <td>A SUPPLEMENTARY LABEL WILL BE SENT TO CUSTOMER...</td>\n",
              "    </tr>\n",
              "  </tbody>\n",
              "</table>\n",
              "</div>\n",
              "    <div class=\"colab-df-buttons\">\n",
              "\n",
              "  <div class=\"colab-df-container\">\n",
              "    <button class=\"colab-df-convert\" onclick=\"convertToInteractive('df-9bf5b176-6888-4d3f-a872-90b291676419')\"\n",
              "            title=\"Convert this dataframe to an interactive table.\"\n",
              "            style=\"display:none;\">\n",
              "\n",
              "  <svg xmlns=\"http://www.w3.org/2000/svg\" height=\"24px\" viewBox=\"0 -960 960 960\">\n",
              "    <path d=\"M120-120v-720h720v720H120Zm60-500h600v-160H180v160Zm220 220h160v-160H400v160Zm0 220h160v-160H400v160ZM180-400h160v-160H180v160Zm440 0h160v-160H620v160ZM180-180h160v-160H180v160Zm440 0h160v-160H620v160Z\"/>\n",
              "  </svg>\n",
              "    </button>\n",
              "\n",
              "  <style>\n",
              "    .colab-df-container {\n",
              "      display:flex;\n",
              "      gap: 12px;\n",
              "    }\n",
              "\n",
              "    .colab-df-convert {\n",
              "      background-color: #E8F0FE;\n",
              "      border: none;\n",
              "      border-radius: 50%;\n",
              "      cursor: pointer;\n",
              "      display: none;\n",
              "      fill: #1967D2;\n",
              "      height: 32px;\n",
              "      padding: 0 0 0 0;\n",
              "      width: 32px;\n",
              "    }\n",
              "\n",
              "    .colab-df-convert:hover {\n",
              "      background-color: #E2EBFA;\n",
              "      box-shadow: 0px 1px 2px rgba(60, 64, 67, 0.3), 0px 1px 3px 1px rgba(60, 64, 67, 0.15);\n",
              "      fill: #174EA6;\n",
              "    }\n",
              "\n",
              "    .colab-df-buttons div {\n",
              "      margin-bottom: 4px;\n",
              "    }\n",
              "\n",
              "    [theme=dark] .colab-df-convert {\n",
              "      background-color: #3B4455;\n",
              "      fill: #D2E3FC;\n",
              "    }\n",
              "\n",
              "    [theme=dark] .colab-df-convert:hover {\n",
              "      background-color: #434B5C;\n",
              "      box-shadow: 0px 1px 3px 1px rgba(0, 0, 0, 0.15);\n",
              "      filter: drop-shadow(0px 1px 2px rgba(0, 0, 0, 0.3));\n",
              "      fill: #FFFFFF;\n",
              "    }\n",
              "  </style>\n",
              "\n",
              "    <script>\n",
              "      const buttonEl =\n",
              "        document.querySelector('#df-9bf5b176-6888-4d3f-a872-90b291676419 button.colab-df-convert');\n",
              "      buttonEl.style.display =\n",
              "        google.colab.kernel.accessAllowed ? 'block' : 'none';\n",
              "\n",
              "      async function convertToInteractive(key) {\n",
              "        const element = document.querySelector('#df-9bf5b176-6888-4d3f-a872-90b291676419');\n",
              "        const dataTable =\n",
              "          await google.colab.kernel.invokeFunction('convertToInteractive',\n",
              "                                                    [key], {});\n",
              "        if (!dataTable) return;\n",
              "\n",
              "        const docLinkHtml = 'Like what you see? Visit the ' +\n",
              "          '<a target=\"_blank\" href=https://colab.research.google.com/notebooks/data_table.ipynb>data table notebook</a>'\n",
              "          + ' to learn more about interactive tables.';\n",
              "        element.innerHTML = '';\n",
              "        dataTable['output_type'] = 'display_data';\n",
              "        await google.colab.output.renderOutput(dataTable, element);\n",
              "        const docLink = document.createElement('div');\n",
              "        docLink.innerHTML = docLinkHtml;\n",
              "        element.appendChild(docLink);\n",
              "      }\n",
              "    </script>\n",
              "  </div>\n",
              "\n",
              "\n",
              "<div id=\"df-7ae8bea5-10f1-4118-8916-d487e57ae28a\">\n",
              "  <button class=\"colab-df-quickchart\" onclick=\"quickchart('df-7ae8bea5-10f1-4118-8916-d487e57ae28a')\"\n",
              "            title=\"Suggest charts\"\n",
              "            style=\"display:none;\">\n",
              "\n",
              "<svg xmlns=\"http://www.w3.org/2000/svg\" height=\"24px\"viewBox=\"0 0 24 24\"\n",
              "     width=\"24px\">\n",
              "    <g>\n",
              "        <path d=\"M19 3H5c-1.1 0-2 .9-2 2v14c0 1.1.9 2 2 2h14c1.1 0 2-.9 2-2V5c0-1.1-.9-2-2-2zM9 17H7v-7h2v7zm4 0h-2V7h2v10zm4 0h-2v-4h2v4z\"/>\n",
              "    </g>\n",
              "</svg>\n",
              "  </button>\n",
              "\n",
              "<style>\n",
              "  .colab-df-quickchart {\n",
              "      --bg-color: #E8F0FE;\n",
              "      --fill-color: #1967D2;\n",
              "      --hover-bg-color: #E2EBFA;\n",
              "      --hover-fill-color: #174EA6;\n",
              "      --disabled-fill-color: #AAA;\n",
              "      --disabled-bg-color: #DDD;\n",
              "  }\n",
              "\n",
              "  [theme=dark] .colab-df-quickchart {\n",
              "      --bg-color: #3B4455;\n",
              "      --fill-color: #D2E3FC;\n",
              "      --hover-bg-color: #434B5C;\n",
              "      --hover-fill-color: #FFFFFF;\n",
              "      --disabled-bg-color: #3B4455;\n",
              "      --disabled-fill-color: #666;\n",
              "  }\n",
              "\n",
              "  .colab-df-quickchart {\n",
              "    background-color: var(--bg-color);\n",
              "    border: none;\n",
              "    border-radius: 50%;\n",
              "    cursor: pointer;\n",
              "    display: none;\n",
              "    fill: var(--fill-color);\n",
              "    height: 32px;\n",
              "    padding: 0;\n",
              "    width: 32px;\n",
              "  }\n",
              "\n",
              "  .colab-df-quickchart:hover {\n",
              "    background-color: var(--hover-bg-color);\n",
              "    box-shadow: 0 1px 2px rgba(60, 64, 67, 0.3), 0 1px 3px 1px rgba(60, 64, 67, 0.15);\n",
              "    fill: var(--button-hover-fill-color);\n",
              "  }\n",
              "\n",
              "  .colab-df-quickchart-complete:disabled,\n",
              "  .colab-df-quickchart-complete:disabled:hover {\n",
              "    background-color: var(--disabled-bg-color);\n",
              "    fill: var(--disabled-fill-color);\n",
              "    box-shadow: none;\n",
              "  }\n",
              "\n",
              "  .colab-df-spinner {\n",
              "    border: 2px solid var(--fill-color);\n",
              "    border-color: transparent;\n",
              "    border-bottom-color: var(--fill-color);\n",
              "    animation:\n",
              "      spin 1s steps(1) infinite;\n",
              "  }\n",
              "\n",
              "  @keyframes spin {\n",
              "    0% {\n",
              "      border-color: transparent;\n",
              "      border-bottom-color: var(--fill-color);\n",
              "      border-left-color: var(--fill-color);\n",
              "    }\n",
              "    20% {\n",
              "      border-color: transparent;\n",
              "      border-left-color: var(--fill-color);\n",
              "      border-top-color: var(--fill-color);\n",
              "    }\n",
              "    30% {\n",
              "      border-color: transparent;\n",
              "      border-left-color: var(--fill-color);\n",
              "      border-top-color: var(--fill-color);\n",
              "      border-right-color: var(--fill-color);\n",
              "    }\n",
              "    40% {\n",
              "      border-color: transparent;\n",
              "      border-right-color: var(--fill-color);\n",
              "      border-top-color: var(--fill-color);\n",
              "    }\n",
              "    60% {\n",
              "      border-color: transparent;\n",
              "      border-right-color: var(--fill-color);\n",
              "    }\n",
              "    80% {\n",
              "      border-color: transparent;\n",
              "      border-right-color: var(--fill-color);\n",
              "      border-bottom-color: var(--fill-color);\n",
              "    }\n",
              "    90% {\n",
              "      border-color: transparent;\n",
              "      border-bottom-color: var(--fill-color);\n",
              "    }\n",
              "  }\n",
              "</style>\n",
              "\n",
              "  <script>\n",
              "    async function quickchart(key) {\n",
              "      const quickchartButtonEl =\n",
              "        document.querySelector('#' + key + ' button');\n",
              "      quickchartButtonEl.disabled = true;  // To prevent multiple clicks.\n",
              "      quickchartButtonEl.classList.add('colab-df-spinner');\n",
              "      try {\n",
              "        const charts = await google.colab.kernel.invokeFunction(\n",
              "            'suggestCharts', [key], {});\n",
              "      } catch (error) {\n",
              "        console.error('Error during call to suggestCharts:', error);\n",
              "      }\n",
              "      quickchartButtonEl.classList.remove('colab-df-spinner');\n",
              "      quickchartButtonEl.classList.add('colab-df-quickchart-complete');\n",
              "    }\n",
              "    (() => {\n",
              "      let quickchartButtonEl =\n",
              "        document.querySelector('#df-7ae8bea5-10f1-4118-8916-d487e57ae28a button');\n",
              "      quickchartButtonEl.style.display =\n",
              "        google.colab.kernel.accessAllowed ? 'block' : 'none';\n",
              "    })();\n",
              "  </script>\n",
              "</div>\n",
              "\n",
              "    </div>\n",
              "  </div>\n"
            ],
            "application/vnd.google.colaboratory.intrinsic+json": {
              "type": "dataframe",
              "variable_name": "df",
              "summary": "{\n  \"name\": \"df\",\n  \"rows\": 17135,\n  \"fields\": [\n    {\n      \"column\": \"Car manufacturer (make)\",\n      \"properties\": {\n        \"dtype\": \"category\",\n        \"num_unique_values\": 2,\n        \"samples\": [\n          \"toyota\",\n          \"ford\"\n        ],\n        \"semantic_type\": \"\",\n        \"description\": \"\"\n      }\n    },\n    {\n      \"column\": \"Model\",\n      \"properties\": {\n        \"dtype\": \"category\",\n        \"num_unique_values\": 391,\n        \"samples\": [\n          \"WINDSTAR\",\n          \"AEROMAX\"\n        ],\n        \"semantic_type\": \"\",\n        \"description\": \"\"\n      }\n    },\n    {\n      \"column\": \"Year\",\n      \"properties\": {\n        \"dtype\": \"number\",\n        \"std\": 334,\n        \"min\": 1965,\n        \"max\": 9999,\n        \"num_unique_values\": 62,\n        \"samples\": [\n          2014,\n          2020\n        ],\n        \"semantic_type\": \"\",\n        \"description\": \"\"\n      }\n    },\n    {\n      \"column\": \"Issue\",\n      \"properties\": {\n        \"dtype\": \"category\",\n        \"num_unique_values\": 1861,\n        \"samples\": [\n          \"THE WIRE HARNESS FOR THE POWER LUMBAR FEATURE ON THE SEAT IS UNDERNEATH THE FRONT SEAT CUSHION SUPPORT WIRES.  THE SUPPORT WIRES ON THE DRIVER SEAT CAN CONTACT AND DAMAGE THE INSULATION HARNESS RESULTING IN A HIGH RESISTANCE ELECTRICAL SHORT THROUGH THE SUPPORT WIRES.\",\n          \"HEAT SHIELDS FOR THE CATALYTIC CONVERTER OUTLET PIPES     WERE OMITTED DURING PRODUCTION.                                                                                                                                   CONSEQUENCE OF DEFECT: AFTER SEVERE DUTY USE, SUCH AS HIGH SPEED PURSUIT, THE    OUTLET PIPES BECOME VERY HOT AND COULD IGNITE CERTAIN TYPES OF GROUND COVER      RESULTING IN A VEHICLE FIRE.\"\n        ],\n        \"semantic_type\": \"\",\n        \"description\": \"\"\n      }\n    },\n    {\n      \"column\": \"potential risks\",\n      \"properties\": {\n        \"dtype\": \"category\",\n        \"num_unique_values\": 1380,\n        \"samples\": [\n          \"SEAT OCCUPANTS WOULD NOT HAVE ADEQUATE PROTECTION IN THEEVENT OF A SUDDEN STOP OR ACCIDENT AND WOULD BE SUBJECT TO INCREASED RISKOF INJURY.\",\n          \"THE DRIVER COULD EXPERIENCE LOSS OF MOTIVE POWER AND VEHICLE CONTROL, INCREASING THE RISK OF A CRASH.\"\n        ],\n        \"semantic_type\": \"\",\n        \"description\": \"\"\n      }\n    },\n    {\n      \"column\": \"Action Taken\",\n      \"properties\": {\n        \"dtype\": \"category\",\n        \"num_unique_values\": 1863,\n        \"samples\": [\n          \"DEALERS WILL REPLACE THE POWER BRAKE VACUUM BOOSTER ASSEMBLY.\",\n          \"DEALERS WILL REPLACE THE FUEL TANK FREE OF CHARGE.  THE RECALL BEGAN ON JUNE 25, 2007.  OWNERS MAY CONTACT FORD AT 1-866-436-7332.\"\n        ],\n        \"semantic_type\": \"\",\n        \"description\": \"\"\n      }\n    }\n  ]\n}"
            }
          },
          "metadata": {},
          "execution_count": 24
        }
      ]
    },
    {
      "cell_type": "code",
      "source": [
        "!pip install -q -U neo4j"
      ],
      "metadata": {
        "id": "0JLOFI5P-p_u"
      },
      "execution_count": 26,
      "outputs": []
    },
    {
      "cell_type": "markdown",
      "source": [
        "# I have converted csv files to graph mannually, I have also tried using llmLLMGraphTransformer but since the data is too large and i have limited api calls from geoq so i have mannually made nodes and relationships"
      ],
      "metadata": {
        "id": "6-_HdO34vigK"
      }
    },
    {
      "cell_type": "code",
      "source": [
        "import os\n",
        "from neo4j import GraphDatabase, basic_auth\n",
        "from neo4j.exceptions import ServiceUnavailable\n",
        "import pandas as pd\n",
        "\n",
        "uri = os.environ[\"NEO4J_URI\"]\n",
        "username = os.environ[\"NEO4J_USERNAME\"]\n",
        "password = os.environ[\"NEO4J_PASSWORD\"]\n",
        "\n",
        "try:\n",
        "    driver = GraphDatabase.driver(\n",
        "        uri,\n",
        "        auth=basic_auth(username, password),\n",
        "        connection_timeout=1000\n",
        "    )\n",
        "    print(\"Successfully connected to Neo4j!\")\n",
        "except ServiceUnavailable as e:\n",
        "    print(f\"Error: Unable to connect to Neo4j. {e}\")\n",
        "    exit()\n",
        "\n",
        "def create_graph_with_langchain(graph, df):\n",
        "    with graph.session() as session:\n",
        "        for _, row in df.iterrows():\n",
        "            query = \"\"\"\n",
        "            MERGE (manufacturer:CarManufacturer {make: $make})\n",
        "            MERGE (model:Model {model: $model, year: $year})\n",
        "            MERGE (issue:Issue {description: $issue})\n",
        "            MERGE (risk:Risk {potentialRisk: $risk})\n",
        "            MERGE (action:ActionTaken {action: $action})\n",
        "            MERGE (manufacturer)-[:MAKE]->(model)\n",
        "            MERGE (model)-[:HAS_ISSUE]->(issue)\n",
        "            MERGE (issue)-[:POSES_RISK]->(risk)\n",
        "            MERGE (issue)-[:HAS_ACTION]->(action)\n",
        "            \"\"\"\n",
        "            session.run(query, {\n",
        "                \"make\": row['Car manufacturer (make)'],\n",
        "                \"model\": row['Model'],\n",
        "                \"year\": row['Year'],\n",
        "                \"issue\": row['Issue'],\n",
        "                \"risk\": row['potential risks'],\n",
        "                \"action\": row['Action Taken']\n",
        "            })\n",
        "\n",
        "\n",
        "csv_path = \"/content/drive/MyDrive/1graph_rag/graph_rag_csv_data.csv\"\n",
        "df = pd.read_csv(csv_path)\n",
        "\n",
        "# Import data into Neo4j\n",
        "print(\"Importing data into Neo4j...\")\n",
        "create_graph_with_langchain(driver, df)\n",
        "print(\"Data import completed!\")\n",
        "\n"
      ],
      "metadata": {
        "colab": {
          "base_uri": "https://localhost:8080/"
        },
        "id": "mhnz4ZPGCxTw",
        "outputId": "742ed95e-ad7d-482a-b495-89f67a929f3a"
      },
      "execution_count": 29,
      "outputs": [
        {
          "output_type": "stream",
          "name": "stdout",
          "text": [
            "Successfully connected to Neo4j!\n",
            "Importing data into Neo4j...\n",
            "Data import completed!\n"
          ]
        }
      ]
    },
    {
      "cell_type": "markdown",
      "source": [],
      "metadata": {
        "id": "nfk_aKFfwVZZ"
      }
    },
    {
      "cell_type": "code",
      "source": [
        "from langchain_experimental.graph_transformers import LLMGraphTransformer\n",
        "llm_transformer = LLMGraphTransformer(llm=llm)"
      ],
      "metadata": {
        "id": "Mer51fZA9pa1"
      },
      "execution_count": 20,
      "outputs": []
    },
    {
      "cell_type": "code",
      "source": [
        "# directly show the graph resulting from the given Cypher query\n",
        "default_cypher = \"MATCH (s)-[r:!MENTIONS]->(t) RETURN s,r,t LIMIT 50\""
      ],
      "metadata": {
        "id": "rC-4O5FQ99yH"
      },
      "execution_count": 136,
      "outputs": []
    },
    {
      "cell_type": "code",
      "source": [
        "from yfiles_jupyter_graphs import GraphWidget\n",
        "from neo4j import GraphDatabase"
      ],
      "metadata": {
        "id": "K-91BluK_62t"
      },
      "execution_count": 137,
      "outputs": []
    },
    {
      "cell_type": "code",
      "source": [
        "try:\n",
        "  import google.colab\n",
        "  from google.colab import output\n",
        "  output.enable_custom_widget_manager()\n",
        "except:\n",
        "  pass"
      ],
      "metadata": {
        "id": "djVL6Gh4_4sV"
      },
      "execution_count": 138,
      "outputs": []
    },
    {
      "cell_type": "code",
      "source": [
        "from typing import Tuple, List, Optional"
      ],
      "metadata": {
        "id": "zHSkb7LeBghn"
      },
      "execution_count": 141,
      "outputs": []
    },
    {
      "cell_type": "markdown",
      "source": [
        "Checking that the neo4j is connected properly\n"
      ],
      "metadata": {
        "id": "wLK89uyjwg57"
      }
    },
    {
      "cell_type": "code",
      "source": [
        "graph.query(\"CREATE FULLTEXT INDEX entity IF NOT EXISTS FOR (e:__Entity__) ON EACH [e.id]\")"
      ],
      "metadata": {
        "colab": {
          "base_uri": "https://localhost:8080/"
        },
        "id": "e0EXdSStG-Oe",
        "outputId": "4773aba7-8931-4985-fe77-fb09d84fe7a8"
      },
      "execution_count": 143,
      "outputs": [
        {
          "output_type": "execute_result",
          "data": {
            "text/plain": [
              "[]"
            ]
          },
          "metadata": {},
          "execution_count": 143
        }
      ]
    },
    {
      "cell_type": "code",
      "source": [
        "from langchain_core.pydantic_v1 import BaseModel, Field\n",
        "# Extract entities from text\n",
        "class Entities(BaseModel):\n",
        "    \"\"\"Identifying information about entities.\"\"\"\n",
        "\n",
        "    names: List[str] = Field(\n",
        "        ...,\n",
        "        description=\"All the person, organization, or business entities that \"\n",
        "        \"appear in the text\",\n",
        "    )\n",
        "\n"
      ],
      "metadata": {
        "id": "qksArGKrAvie"
      },
      "execution_count": 144,
      "outputs": []
    },
    {
      "cell_type": "code",
      "source": [
        "from langchain_core.prompts import ChatPromptTemplate\n",
        "from langchain_core.prompts.prompt import PromptTemplate"
      ],
      "metadata": {
        "id": "Mx6sfpgRBrs-"
      },
      "execution_count": 145,
      "outputs": []
    },
    {
      "cell_type": "code",
      "source": [
        "prompt = ChatPromptTemplate.from_messages(\n",
        "    [\n",
        "        (\n",
        "            \"system\",\n",
        "            \"You are extracting organization and person entities from the text.\",\n",
        "        ),\n",
        "        (\n",
        "            \"human\",\n",
        "            \"Use the given format to extract information from the following \"\n",
        "            \"input: {question}\",\n",
        "        ),\n",
        "    ]\n",
        ")"
      ],
      "metadata": {
        "id": "xUobRC1wAx-_"
      },
      "execution_count": 146,
      "outputs": []
    },
    {
      "cell_type": "code",
      "source": [
        "entity_chain = prompt | llm.with_structured_output(Entities)"
      ],
      "metadata": {
        "id": "KGR6ocjkA0I_"
      },
      "execution_count": 147,
      "outputs": []
    },
    {
      "cell_type": "code",
      "source": [
        "entity_chain.invoke({\"question\": \"model name of ford cars focus?\"}).names"
      ],
      "metadata": {
        "colab": {
          "base_uri": "https://localhost:8080/"
        },
        "id": "xPLkIEmkA2R2",
        "outputId": "0edd2831-e3c9-4b6d-f97c-ec79214bcad2"
      },
      "execution_count": 148,
      "outputs": [
        {
          "output_type": "execute_result",
          "data": {
            "text/plain": [
              "['Ford', 'Focus']"
            ]
          },
          "metadata": {},
          "execution_count": 148
        }
      ]
    },
    {
      "cell_type": "code",
      "source": [
        "from langchain_community.vectorstores.neo4j_vector import remove_lucene_chars"
      ],
      "metadata": {
        "id": "RpbOzL5BA6hW"
      },
      "execution_count": 149,
      "outputs": []
    },
    {
      "cell_type": "markdown",
      "source": [
        "# the retriever not working properly with this dataset but I got this retriver from neo4j documentation but this works fine If I have generated Knowladge graph using LLMGraphTransformer but as this graph is manually added so I have changed some CYPHER queries but still it is not working and so I have to learn cypher and change the query"
      ],
      "metadata": {
        "id": "jVvRRK03wyM0"
      }
    },
    {
      "cell_type": "code",
      "source": [
        "def generate_full_text_query(input: str) -> str:\n",
        "    full_text_query = \"\"\n",
        "    words = [el for el in remove_lucene_chars(input).split() if el]\n",
        "    for word in words[:-1]:\n",
        "        full_text_query += f\" {word}~2 AND\"\n",
        "    full_text_query += f\" {words[-1]}~2\"\n",
        "    return full_text_query.strip()\n"
      ],
      "metadata": {
        "id": "7gHCkvGKA86t"
      },
      "execution_count": 150,
      "outputs": []
    },
    {
      "cell_type": "code",
      "source": [
        "def structured_retriever(question: str) -> str:\n",
        "    result = \"\"\n",
        "\n",
        "\n",
        "    entities = entity_chain.invoke({\"question\": question})\n",
        "\n",
        "\n",
        "    for entity in entities.names:\n",
        "        query = \"\"\"\n",
        "        CALL db.index.fulltext.queryNodes('entity', $query, {limit:50})\n",
        "        YIELD node, score\n",
        "        CALL {\n",
        "          WITH node\n",
        "          MATCH (node)-[r:MAKE]->(model:Model)\n",
        "          RETURN node.make + ' - ' + type(r) + ' -> ' + model.model AS output\n",
        "          UNION ALL\n",
        "          WITH node\n",
        "          MATCH (node)-[r:HAS_ISSUE]->(issue:Issue)\n",
        "          RETURN node.make + ' - ' + type(r) + ' -> ' + issue.description AS output\n",
        "          UNION ALL\n",
        "          WITH node\n",
        "          MATCH (node)-[r:POSES_RISK]->(risk:Risk)\n",
        "          RETURN node.make + ' - ' + type(r) + ' -> ' + risk.potentialRisk AS output\n",
        "          UNION ALL\n",
        "          WITH node\n",
        "          MATCH (node)-[r:HAS_ACTION]->(action:ActionTaken)\n",
        "          RETURN node.make + ' - ' + type(r) + ' -> ' + action.action AS output\n",
        "        }\n",
        "        RETURN output LIMIT 50\n",
        "        \"\"\"\n",
        "        response = graph.query(query, {\"query\": generate_full_text_query(entity)})\n",
        "\n",
        "        result += \"\\n\".join([el['output'] for el in response])\n",
        "\n",
        "    return result\n"
      ],
      "metadata": {
        "id": "9am7HYSJgwIE"
      },
      "execution_count": 167,
      "outputs": []
    },
    {
      "cell_type": "code",
      "source": [
        "print(structured_retriever(\"FORD\"))"
      ],
      "metadata": {
        "colab": {
          "base_uri": "https://localhost:8080/"
        },
        "id": "nIla9QpzBA8u",
        "outputId": "cb184a19-ae9c-454a-cbe2-4ee9cd20559d"
      },
      "execution_count": 176,
      "outputs": [
        {
          "output_type": "stream",
          "name": "stdout",
          "text": [
            "Extracted entities: ['FORD']\n",
            "Generated full-text query: FORD~2\n"
          ]
        },
        {
          "output_type": "stream",
          "name": "stderr",
          "text": [
            "WARNING:neo4j.notifications:Received notification from DBMS server: {severity: WARNING} {code: Neo.ClientNotification.Statement.UnknownRelationshipTypeWarning} {category: UNRECOGNIZED} {title: The provided relationship type is not in the database.} {description: One of the relationship types in your query is not available in the database, make sure you didn't misspell it or that the label is available when you run this statement in your application (the missing relationship type is: MANUFACTURES)} {position: line: 6, column: 33, offset: 183} for query: \"\\n            CALL db.index.fulltext.queryNodes('entity', $query, {limit:5})\\n            YIELD node, score\\n            CALL {\\n                WITH node\\n                MATCH (node)-[r:MANUFACTURES]->(model:Model)\\n                RETURN node.make + ' - ' + type(r) + ' -> ' + model.id AS output\\n                UNION ALL\\n                WITH node\\n                MATCH (node)-[r:CONTACTED]->(owner:Owner)\\n                RETURN node.make + ' - ' + type(r) + ' -> ' + owner.name AS output\\n                UNION ALL\\n                WITH node\\n                MATCH (node)-[r:HAS_CHASSIS]->(chassis:Chassis)\\n                RETURN node.make + ' - ' + type(r) + ' -> ' + chassis.id AS output\\n                UNION ALL\\n                WITH node\\n                MATCH (node)-[r:ACQUIRED_BY]->(company:Company)\\n                RETURN node.make + ' - ' + type(r) + ' -> ' + company.name AS output\\n                UNION ALL\\n                WITH node\\n                MATCH (node)-[r:DEVELOPED]->(technology:Technology)\\n                RETURN node.make + ' - ' + type(r) + ' -> ' + technology.name AS output\\n                UNION ALL\\n                WITH node\\n                MATCH (node)-[r:LEADS_TO]->(incident:Incident)\\n                RETURN node.make + ' - ' + type(r) + ' -> ' + incident.description AS output\\n                UNION ALL\\n                WITH node\\n                MATCH (node)-[r:CAUSES]->(fire:Fire)\\n                RETURN node.make + ' - ' + type(r) + ' -> ' + fire.name AS output\\n                UNION ALL\\n                WITH node\\n                MATCH (node)-[r:SAME_AS]->(company:Company)\\n                RETURN node.make + ' - ' + type(r) + ' -> ' + company.name AS output\\n            }\\n            RETURN output LIMIT 50\\n            \"\n",
            "WARNING:neo4j.notifications:Received notification from DBMS server: {severity: WARNING} {code: Neo.ClientNotification.Statement.UnknownRelationshipTypeWarning} {category: UNRECOGNIZED} {title: The provided relationship type is not in the database.} {description: One of the relationship types in your query is not available in the database, make sure you didn't misspell it or that the label is available when you run this statement in your application (the missing relationship type is: SAME_AS)} {position: line: 34, column: 33, offset: 1573} for query: \"\\n            CALL db.index.fulltext.queryNodes('entity', $query, {limit:5})\\n            YIELD node, score\\n            CALL {\\n                WITH node\\n                MATCH (node)-[r:MANUFACTURES]->(model:Model)\\n                RETURN node.make + ' - ' + type(r) + ' -> ' + model.id AS output\\n                UNION ALL\\n                WITH node\\n                MATCH (node)-[r:CONTACTED]->(owner:Owner)\\n                RETURN node.make + ' - ' + type(r) + ' -> ' + owner.name AS output\\n                UNION ALL\\n                WITH node\\n                MATCH (node)-[r:HAS_CHASSIS]->(chassis:Chassis)\\n                RETURN node.make + ' - ' + type(r) + ' -> ' + chassis.id AS output\\n                UNION ALL\\n                WITH node\\n                MATCH (node)-[r:ACQUIRED_BY]->(company:Company)\\n                RETURN node.make + ' - ' + type(r) + ' -> ' + company.name AS output\\n                UNION ALL\\n                WITH node\\n                MATCH (node)-[r:DEVELOPED]->(technology:Technology)\\n                RETURN node.make + ' - ' + type(r) + ' -> ' + technology.name AS output\\n                UNION ALL\\n                WITH node\\n                MATCH (node)-[r:LEADS_TO]->(incident:Incident)\\n                RETURN node.make + ' - ' + type(r) + ' -> ' + incident.description AS output\\n                UNION ALL\\n                WITH node\\n                MATCH (node)-[r:CAUSES]->(fire:Fire)\\n                RETURN node.make + ' - ' + type(r) + ' -> ' + fire.name AS output\\n                UNION ALL\\n                WITH node\\n                MATCH (node)-[r:SAME_AS]->(company:Company)\\n                RETURN node.make + ' - ' + type(r) + ' -> ' + company.name AS output\\n            }\\n            RETURN output LIMIT 50\\n            \"\n",
            "WARNING:neo4j.notifications:Received notification from DBMS server: {severity: WARNING} {code: Neo.ClientNotification.Statement.UnknownRelationshipTypeWarning} {category: UNRECOGNIZED} {title: The provided relationship type is not in the database.} {description: One of the relationship types in your query is not available in the database, make sure you didn't misspell it or that the label is available when you run this statement in your application (the missing relationship type is: DEVELOPED)} {position: line: 22, column: 33, offset: 970} for query: \"\\n            CALL db.index.fulltext.queryNodes('entity', $query, {limit:5})\\n            YIELD node, score\\n            CALL {\\n                WITH node\\n                MATCH (node)-[r:MANUFACTURES]->(model:Model)\\n                RETURN node.make + ' - ' + type(r) + ' -> ' + model.id AS output\\n                UNION ALL\\n                WITH node\\n                MATCH (node)-[r:CONTACTED]->(owner:Owner)\\n                RETURN node.make + ' - ' + type(r) + ' -> ' + owner.name AS output\\n                UNION ALL\\n                WITH node\\n                MATCH (node)-[r:HAS_CHASSIS]->(chassis:Chassis)\\n                RETURN node.make + ' - ' + type(r) + ' -> ' + chassis.id AS output\\n                UNION ALL\\n                WITH node\\n                MATCH (node)-[r:ACQUIRED_BY]->(company:Company)\\n                RETURN node.make + ' - ' + type(r) + ' -> ' + company.name AS output\\n                UNION ALL\\n                WITH node\\n                MATCH (node)-[r:DEVELOPED]->(technology:Technology)\\n                RETURN node.make + ' - ' + type(r) + ' -> ' + technology.name AS output\\n                UNION ALL\\n                WITH node\\n                MATCH (node)-[r:LEADS_TO]->(incident:Incident)\\n                RETURN node.make + ' - ' + type(r) + ' -> ' + incident.description AS output\\n                UNION ALL\\n                WITH node\\n                MATCH (node)-[r:CAUSES]->(fire:Fire)\\n                RETURN node.make + ' - ' + type(r) + ' -> ' + fire.name AS output\\n                UNION ALL\\n                WITH node\\n                MATCH (node)-[r:SAME_AS]->(company:Company)\\n                RETURN node.make + ' - ' + type(r) + ' -> ' + company.name AS output\\n            }\\n            RETURN output LIMIT 50\\n            \"\n",
            "WARNING:neo4j.notifications:Received notification from DBMS server: {severity: WARNING} {code: Neo.ClientNotification.Statement.UnknownRelationshipTypeWarning} {category: UNRECOGNIZED} {title: The provided relationship type is not in the database.} {description: One of the relationship types in your query is not available in the database, make sure you didn't misspell it or that the label is available when you run this statement in your application (the missing relationship type is: ACQUIRED_BY)} {position: line: 18, column: 33, offset: 769} for query: \"\\n            CALL db.index.fulltext.queryNodes('entity', $query, {limit:5})\\n            YIELD node, score\\n            CALL {\\n                WITH node\\n                MATCH (node)-[r:MANUFACTURES]->(model:Model)\\n                RETURN node.make + ' - ' + type(r) + ' -> ' + model.id AS output\\n                UNION ALL\\n                WITH node\\n                MATCH (node)-[r:CONTACTED]->(owner:Owner)\\n                RETURN node.make + ' - ' + type(r) + ' -> ' + owner.name AS output\\n                UNION ALL\\n                WITH node\\n                MATCH (node)-[r:HAS_CHASSIS]->(chassis:Chassis)\\n                RETURN node.make + ' - ' + type(r) + ' -> ' + chassis.id AS output\\n                UNION ALL\\n                WITH node\\n                MATCH (node)-[r:ACQUIRED_BY]->(company:Company)\\n                RETURN node.make + ' - ' + type(r) + ' -> ' + company.name AS output\\n                UNION ALL\\n                WITH node\\n                MATCH (node)-[r:DEVELOPED]->(technology:Technology)\\n                RETURN node.make + ' - ' + type(r) + ' -> ' + technology.name AS output\\n                UNION ALL\\n                WITH node\\n                MATCH (node)-[r:LEADS_TO]->(incident:Incident)\\n                RETURN node.make + ' - ' + type(r) + ' -> ' + incident.description AS output\\n                UNION ALL\\n                WITH node\\n                MATCH (node)-[r:CAUSES]->(fire:Fire)\\n                RETURN node.make + ' - ' + type(r) + ' -> ' + fire.name AS output\\n                UNION ALL\\n                WITH node\\n                MATCH (node)-[r:SAME_AS]->(company:Company)\\n                RETURN node.make + ' - ' + type(r) + ' -> ' + company.name AS output\\n            }\\n            RETURN output LIMIT 50\\n            \"\n",
            "WARNING:neo4j.notifications:Received notification from DBMS server: {severity: WARNING} {code: Neo.ClientNotification.Statement.UnknownRelationshipTypeWarning} {category: UNRECOGNIZED} {title: The provided relationship type is not in the database.} {description: One of the relationship types in your query is not available in the database, make sure you didn't misspell it or that the label is available when you run this statement in your application (the missing relationship type is: HAS_CHASSIS)} {position: line: 14, column: 33, offset: 570} for query: \"\\n            CALL db.index.fulltext.queryNodes('entity', $query, {limit:5})\\n            YIELD node, score\\n            CALL {\\n                WITH node\\n                MATCH (node)-[r:MANUFACTURES]->(model:Model)\\n                RETURN node.make + ' - ' + type(r) + ' -> ' + model.id AS output\\n                UNION ALL\\n                WITH node\\n                MATCH (node)-[r:CONTACTED]->(owner:Owner)\\n                RETURN node.make + ' - ' + type(r) + ' -> ' + owner.name AS output\\n                UNION ALL\\n                WITH node\\n                MATCH (node)-[r:HAS_CHASSIS]->(chassis:Chassis)\\n                RETURN node.make + ' - ' + type(r) + ' -> ' + chassis.id AS output\\n                UNION ALL\\n                WITH node\\n                MATCH (node)-[r:ACQUIRED_BY]->(company:Company)\\n                RETURN node.make + ' - ' + type(r) + ' -> ' + company.name AS output\\n                UNION ALL\\n                WITH node\\n                MATCH (node)-[r:DEVELOPED]->(technology:Technology)\\n                RETURN node.make + ' - ' + type(r) + ' -> ' + technology.name AS output\\n                UNION ALL\\n                WITH node\\n                MATCH (node)-[r:LEADS_TO]->(incident:Incident)\\n                RETURN node.make + ' - ' + type(r) + ' -> ' + incident.description AS output\\n                UNION ALL\\n                WITH node\\n                MATCH (node)-[r:CAUSES]->(fire:Fire)\\n                RETURN node.make + ' - ' + type(r) + ' -> ' + fire.name AS output\\n                UNION ALL\\n                WITH node\\n                MATCH (node)-[r:SAME_AS]->(company:Company)\\n                RETURN node.make + ' - ' + type(r) + ' -> ' + company.name AS output\\n            }\\n            RETURN output LIMIT 50\\n            \"\n",
            "WARNING:neo4j.notifications:Received notification from DBMS server: {severity: WARNING} {code: Neo.ClientNotification.Statement.UnknownLabelWarning} {category: UNRECOGNIZED} {title: The provided label is not in the database.} {description: One of the labels in your query is not available in the database, make sure you didn't misspell it or that the label is available when you run this statement in your application (the missing label name is: Fire)} {position: line: 30, column: 48, offset: 1401} for query: \"\\n            CALL db.index.fulltext.queryNodes('entity', $query, {limit:5})\\n            YIELD node, score\\n            CALL {\\n                WITH node\\n                MATCH (node)-[r:MANUFACTURES]->(model:Model)\\n                RETURN node.make + ' - ' + type(r) + ' -> ' + model.id AS output\\n                UNION ALL\\n                WITH node\\n                MATCH (node)-[r:CONTACTED]->(owner:Owner)\\n                RETURN node.make + ' - ' + type(r) + ' -> ' + owner.name AS output\\n                UNION ALL\\n                WITH node\\n                MATCH (node)-[r:HAS_CHASSIS]->(chassis:Chassis)\\n                RETURN node.make + ' - ' + type(r) + ' -> ' + chassis.id AS output\\n                UNION ALL\\n                WITH node\\n                MATCH (node)-[r:ACQUIRED_BY]->(company:Company)\\n                RETURN node.make + ' - ' + type(r) + ' -> ' + company.name AS output\\n                UNION ALL\\n                WITH node\\n                MATCH (node)-[r:DEVELOPED]->(technology:Technology)\\n                RETURN node.make + ' - ' + type(r) + ' -> ' + technology.name AS output\\n                UNION ALL\\n                WITH node\\n                MATCH (node)-[r:LEADS_TO]->(incident:Incident)\\n                RETURN node.make + ' - ' + type(r) + ' -> ' + incident.description AS output\\n                UNION ALL\\n                WITH node\\n                MATCH (node)-[r:CAUSES]->(fire:Fire)\\n                RETURN node.make + ' - ' + type(r) + ' -> ' + fire.name AS output\\n                UNION ALL\\n                WITH node\\n                MATCH (node)-[r:SAME_AS]->(company:Company)\\n                RETURN node.make + ' - ' + type(r) + ' -> ' + company.name AS output\\n            }\\n            RETURN output LIMIT 50\\n            \"\n",
            "WARNING:neo4j.notifications:Received notification from DBMS server: {severity: WARNING} {code: Neo.ClientNotification.Statement.UnknownRelationshipTypeWarning} {category: UNRECOGNIZED} {title: The provided relationship type is not in the database.} {description: One of the relationship types in your query is not available in the database, make sure you didn't misspell it or that the label is available when you run this statement in your application (the missing relationship type is: CAUSES)} {position: line: 30, column: 33, offset: 1386} for query: \"\\n            CALL db.index.fulltext.queryNodes('entity', $query, {limit:5})\\n            YIELD node, score\\n            CALL {\\n                WITH node\\n                MATCH (node)-[r:MANUFACTURES]->(model:Model)\\n                RETURN node.make + ' - ' + type(r) + ' -> ' + model.id AS output\\n                UNION ALL\\n                WITH node\\n                MATCH (node)-[r:CONTACTED]->(owner:Owner)\\n                RETURN node.make + ' - ' + type(r) + ' -> ' + owner.name AS output\\n                UNION ALL\\n                WITH node\\n                MATCH (node)-[r:HAS_CHASSIS]->(chassis:Chassis)\\n                RETURN node.make + ' - ' + type(r) + ' -> ' + chassis.id AS output\\n                UNION ALL\\n                WITH node\\n                MATCH (node)-[r:ACQUIRED_BY]->(company:Company)\\n                RETURN node.make + ' - ' + type(r) + ' -> ' + company.name AS output\\n                UNION ALL\\n                WITH node\\n                MATCH (node)-[r:DEVELOPED]->(technology:Technology)\\n                RETURN node.make + ' - ' + type(r) + ' -> ' + technology.name AS output\\n                UNION ALL\\n                WITH node\\n                MATCH (node)-[r:LEADS_TO]->(incident:Incident)\\n                RETURN node.make + ' - ' + type(r) + ' -> ' + incident.description AS output\\n                UNION ALL\\n                WITH node\\n                MATCH (node)-[r:CAUSES]->(fire:Fire)\\n                RETURN node.make + ' - ' + type(r) + ' -> ' + fire.name AS output\\n                UNION ALL\\n                WITH node\\n                MATCH (node)-[r:SAME_AS]->(company:Company)\\n                RETURN node.make + ' - ' + type(r) + ' -> ' + company.name AS output\\n            }\\n            RETURN output LIMIT 50\\n            \"\n",
            "WARNING:neo4j.notifications:Received notification from DBMS server: {severity: WARNING} {code: Neo.ClientNotification.Statement.UnknownLabelWarning} {category: UNRECOGNIZED} {title: The provided label is not in the database.} {description: One of the labels in your query is not available in the database, make sure you didn't misspell it or that the label is available when you run this statement in your application (the missing label name is: Incident)} {position: line: 26, column: 54, offset: 1199} for query: \"\\n            CALL db.index.fulltext.queryNodes('entity', $query, {limit:5})\\n            YIELD node, score\\n            CALL {\\n                WITH node\\n                MATCH (node)-[r:MANUFACTURES]->(model:Model)\\n                RETURN node.make + ' - ' + type(r) + ' -> ' + model.id AS output\\n                UNION ALL\\n                WITH node\\n                MATCH (node)-[r:CONTACTED]->(owner:Owner)\\n                RETURN node.make + ' - ' + type(r) + ' -> ' + owner.name AS output\\n                UNION ALL\\n                WITH node\\n                MATCH (node)-[r:HAS_CHASSIS]->(chassis:Chassis)\\n                RETURN node.make + ' - ' + type(r) + ' -> ' + chassis.id AS output\\n                UNION ALL\\n                WITH node\\n                MATCH (node)-[r:ACQUIRED_BY]->(company:Company)\\n                RETURN node.make + ' - ' + type(r) + ' -> ' + company.name AS output\\n                UNION ALL\\n                WITH node\\n                MATCH (node)-[r:DEVELOPED]->(technology:Technology)\\n                RETURN node.make + ' - ' + type(r) + ' -> ' + technology.name AS output\\n                UNION ALL\\n                WITH node\\n                MATCH (node)-[r:LEADS_TO]->(incident:Incident)\\n                RETURN node.make + ' - ' + type(r) + ' -> ' + incident.description AS output\\n                UNION ALL\\n                WITH node\\n                MATCH (node)-[r:CAUSES]->(fire:Fire)\\n                RETURN node.make + ' - ' + type(r) + ' -> ' + fire.name AS output\\n                UNION ALL\\n                WITH node\\n                MATCH (node)-[r:SAME_AS]->(company:Company)\\n                RETURN node.make + ' - ' + type(r) + ' -> ' + company.name AS output\\n            }\\n            RETURN output LIMIT 50\\n            \"\n",
            "WARNING:neo4j.notifications:Received notification from DBMS server: {severity: WARNING} {code: Neo.ClientNotification.Statement.UnknownRelationshipTypeWarning} {category: UNRECOGNIZED} {title: The provided relationship type is not in the database.} {description: One of the relationship types in your query is not available in the database, make sure you didn't misspell it or that the label is available when you run this statement in your application (the missing relationship type is: LEADS_TO)} {position: line: 26, column: 33, offset: 1178} for query: \"\\n            CALL db.index.fulltext.queryNodes('entity', $query, {limit:5})\\n            YIELD node, score\\n            CALL {\\n                WITH node\\n                MATCH (node)-[r:MANUFACTURES]->(model:Model)\\n                RETURN node.make + ' - ' + type(r) + ' -> ' + model.id AS output\\n                UNION ALL\\n                WITH node\\n                MATCH (node)-[r:CONTACTED]->(owner:Owner)\\n                RETURN node.make + ' - ' + type(r) + ' -> ' + owner.name AS output\\n                UNION ALL\\n                WITH node\\n                MATCH (node)-[r:HAS_CHASSIS]->(chassis:Chassis)\\n                RETURN node.make + ' - ' + type(r) + ' -> ' + chassis.id AS output\\n                UNION ALL\\n                WITH node\\n                MATCH (node)-[r:ACQUIRED_BY]->(company:Company)\\n                RETURN node.make + ' - ' + type(r) + ' -> ' + company.name AS output\\n                UNION ALL\\n                WITH node\\n                MATCH (node)-[r:DEVELOPED]->(technology:Technology)\\n                RETURN node.make + ' - ' + type(r) + ' -> ' + technology.name AS output\\n                UNION ALL\\n                WITH node\\n                MATCH (node)-[r:LEADS_TO]->(incident:Incident)\\n                RETURN node.make + ' - ' + type(r) + ' -> ' + incident.description AS output\\n                UNION ALL\\n                WITH node\\n                MATCH (node)-[r:CAUSES]->(fire:Fire)\\n                RETURN node.make + ' - ' + type(r) + ' -> ' + fire.name AS output\\n                UNION ALL\\n                WITH node\\n                MATCH (node)-[r:SAME_AS]->(company:Company)\\n                RETURN node.make + ' - ' + type(r) + ' -> ' + company.name AS output\\n            }\\n            RETURN output LIMIT 50\\n            \"\n",
            "WARNING:neo4j.notifications:Received notification from DBMS server: {severity: WARNING} {code: Neo.ClientNotification.Statement.UnknownLabelWarning} {category: UNRECOGNIZED} {title: The provided label is not in the database.} {description: One of the labels in your query is not available in the database, make sure you didn't misspell it or that the label is available when you run this statement in your application (the missing label name is: Technology)} {position: line: 22, column: 57, offset: 994} for query: \"\\n            CALL db.index.fulltext.queryNodes('entity', $query, {limit:5})\\n            YIELD node, score\\n            CALL {\\n                WITH node\\n                MATCH (node)-[r:MANUFACTURES]->(model:Model)\\n                RETURN node.make + ' - ' + type(r) + ' -> ' + model.id AS output\\n                UNION ALL\\n                WITH node\\n                MATCH (node)-[r:CONTACTED]->(owner:Owner)\\n                RETURN node.make + ' - ' + type(r) + ' -> ' + owner.name AS output\\n                UNION ALL\\n                WITH node\\n                MATCH (node)-[r:HAS_CHASSIS]->(chassis:Chassis)\\n                RETURN node.make + ' - ' + type(r) + ' -> ' + chassis.id AS output\\n                UNION ALL\\n                WITH node\\n                MATCH (node)-[r:ACQUIRED_BY]->(company:Company)\\n                RETURN node.make + ' - ' + type(r) + ' -> ' + company.name AS output\\n                UNION ALL\\n                WITH node\\n                MATCH (node)-[r:DEVELOPED]->(technology:Technology)\\n                RETURN node.make + ' - ' + type(r) + ' -> ' + technology.name AS output\\n                UNION ALL\\n                WITH node\\n                MATCH (node)-[r:LEADS_TO]->(incident:Incident)\\n                RETURN node.make + ' - ' + type(r) + ' -> ' + incident.description AS output\\n                UNION ALL\\n                WITH node\\n                MATCH (node)-[r:CAUSES]->(fire:Fire)\\n                RETURN node.make + ' - ' + type(r) + ' -> ' + fire.name AS output\\n                UNION ALL\\n                WITH node\\n                MATCH (node)-[r:SAME_AS]->(company:Company)\\n                RETURN node.make + ' - ' + type(r) + ' -> ' + company.name AS output\\n            }\\n            RETURN output LIMIT 50\\n            \"\n",
            "WARNING:neo4j.notifications:Received notification from DBMS server: {severity: WARNING} {code: Neo.ClientNotification.Statement.UnknownLabelWarning} {category: UNRECOGNIZED} {title: The provided label is not in the database.} {description: One of the labels in your query is not available in the database, make sure you didn't misspell it or that the label is available when you run this statement in your application (the missing label name is: Company)} {position: line: 34, column: 52, offset: 1592} for query: \"\\n            CALL db.index.fulltext.queryNodes('entity', $query, {limit:5})\\n            YIELD node, score\\n            CALL {\\n                WITH node\\n                MATCH (node)-[r:MANUFACTURES]->(model:Model)\\n                RETURN node.make + ' - ' + type(r) + ' -> ' + model.id AS output\\n                UNION ALL\\n                WITH node\\n                MATCH (node)-[r:CONTACTED]->(owner:Owner)\\n                RETURN node.make + ' - ' + type(r) + ' -> ' + owner.name AS output\\n                UNION ALL\\n                WITH node\\n                MATCH (node)-[r:HAS_CHASSIS]->(chassis:Chassis)\\n                RETURN node.make + ' - ' + type(r) + ' -> ' + chassis.id AS output\\n                UNION ALL\\n                WITH node\\n                MATCH (node)-[r:ACQUIRED_BY]->(company:Company)\\n                RETURN node.make + ' - ' + type(r) + ' -> ' + company.name AS output\\n                UNION ALL\\n                WITH node\\n                MATCH (node)-[r:DEVELOPED]->(technology:Technology)\\n                RETURN node.make + ' - ' + type(r) + ' -> ' + technology.name AS output\\n                UNION ALL\\n                WITH node\\n                MATCH (node)-[r:LEADS_TO]->(incident:Incident)\\n                RETURN node.make + ' - ' + type(r) + ' -> ' + incident.description AS output\\n                UNION ALL\\n                WITH node\\n                MATCH (node)-[r:CAUSES]->(fire:Fire)\\n                RETURN node.make + ' - ' + type(r) + ' -> ' + fire.name AS output\\n                UNION ALL\\n                WITH node\\n                MATCH (node)-[r:SAME_AS]->(company:Company)\\n                RETURN node.make + ' - ' + type(r) + ' -> ' + company.name AS output\\n            }\\n            RETURN output LIMIT 50\\n            \"\n",
            "WARNING:neo4j.notifications:Received notification from DBMS server: {severity: WARNING} {code: Neo.ClientNotification.Statement.UnknownLabelWarning} {category: UNRECOGNIZED} {title: The provided label is not in the database.} {description: One of the labels in your query is not available in the database, make sure you didn't misspell it or that the label is available when you run this statement in your application (the missing label name is: Owner)} {position: line: 10, column: 52, offset: 396} for query: \"\\n            CALL db.index.fulltext.queryNodes('entity', $query, {limit:5})\\n            YIELD node, score\\n            CALL {\\n                WITH node\\n                MATCH (node)-[r:MANUFACTURES]->(model:Model)\\n                RETURN node.make + ' - ' + type(r) + ' -> ' + model.id AS output\\n                UNION ALL\\n                WITH node\\n                MATCH (node)-[r:CONTACTED]->(owner:Owner)\\n                RETURN node.make + ' - ' + type(r) + ' -> ' + owner.name AS output\\n                UNION ALL\\n                WITH node\\n                MATCH (node)-[r:HAS_CHASSIS]->(chassis:Chassis)\\n                RETURN node.make + ' - ' + type(r) + ' -> ' + chassis.id AS output\\n                UNION ALL\\n                WITH node\\n                MATCH (node)-[r:ACQUIRED_BY]->(company:Company)\\n                RETURN node.make + ' - ' + type(r) + ' -> ' + company.name AS output\\n                UNION ALL\\n                WITH node\\n                MATCH (node)-[r:DEVELOPED]->(technology:Technology)\\n                RETURN node.make + ' - ' + type(r) + ' -> ' + technology.name AS output\\n                UNION ALL\\n                WITH node\\n                MATCH (node)-[r:LEADS_TO]->(incident:Incident)\\n                RETURN node.make + ' - ' + type(r) + ' -> ' + incident.description AS output\\n                UNION ALL\\n                WITH node\\n                MATCH (node)-[r:CAUSES]->(fire:Fire)\\n                RETURN node.make + ' - ' + type(r) + ' -> ' + fire.name AS output\\n                UNION ALL\\n                WITH node\\n                MATCH (node)-[r:SAME_AS]->(company:Company)\\n                RETURN node.make + ' - ' + type(r) + ' -> ' + company.name AS output\\n            }\\n            RETURN output LIMIT 50\\n            \"\n",
            "WARNING:neo4j.notifications:Received notification from DBMS server: {severity: WARNING} {code: Neo.ClientNotification.Statement.UnknownLabelWarning} {category: UNRECOGNIZED} {title: The provided label is not in the database.} {description: One of the labels in your query is not available in the database, make sure you didn't misspell it or that the label is available when you run this statement in your application (the missing label name is: Company)} {position: line: 18, column: 56, offset: 792} for query: \"\\n            CALL db.index.fulltext.queryNodes('entity', $query, {limit:5})\\n            YIELD node, score\\n            CALL {\\n                WITH node\\n                MATCH (node)-[r:MANUFACTURES]->(model:Model)\\n                RETURN node.make + ' - ' + type(r) + ' -> ' + model.id AS output\\n                UNION ALL\\n                WITH node\\n                MATCH (node)-[r:CONTACTED]->(owner:Owner)\\n                RETURN node.make + ' - ' + type(r) + ' -> ' + owner.name AS output\\n                UNION ALL\\n                WITH node\\n                MATCH (node)-[r:HAS_CHASSIS]->(chassis:Chassis)\\n                RETURN node.make + ' - ' + type(r) + ' -> ' + chassis.id AS output\\n                UNION ALL\\n                WITH node\\n                MATCH (node)-[r:ACQUIRED_BY]->(company:Company)\\n                RETURN node.make + ' - ' + type(r) + ' -> ' + company.name AS output\\n                UNION ALL\\n                WITH node\\n                MATCH (node)-[r:DEVELOPED]->(technology:Technology)\\n                RETURN node.make + ' - ' + type(r) + ' -> ' + technology.name AS output\\n                UNION ALL\\n                WITH node\\n                MATCH (node)-[r:LEADS_TO]->(incident:Incident)\\n                RETURN node.make + ' - ' + type(r) + ' -> ' + incident.description AS output\\n                UNION ALL\\n                WITH node\\n                MATCH (node)-[r:CAUSES]->(fire:Fire)\\n                RETURN node.make + ' - ' + type(r) + ' -> ' + fire.name AS output\\n                UNION ALL\\n                WITH node\\n                MATCH (node)-[r:SAME_AS]->(company:Company)\\n                RETURN node.make + ' - ' + type(r) + ' -> ' + company.name AS output\\n            }\\n            RETURN output LIMIT 50\\n            \"\n",
            "WARNING:neo4j.notifications:Received notification from DBMS server: {severity: WARNING} {code: Neo.ClientNotification.Statement.FeatureDeprecationWarning} {category: DEPRECATION} {title: This feature is deprecated and will be removed in future versions.} {description: CALL subquery without a variable scope clause is now deprecated. Use CALL (node, node, node, node, node, node, node, node) { ... }} {position: line: 4, column: 13, offset: 118} for query: \"\\n            CALL db.index.fulltext.queryNodes('entity', $query, {limit:5})\\n            YIELD node, score\\n            CALL {\\n                WITH node\\n                MATCH (node)-[r:MANUFACTURES]->(model:Model)\\n                RETURN node.make + ' - ' + type(r) + ' -> ' + model.id AS output\\n                UNION ALL\\n                WITH node\\n                MATCH (node)-[r:CONTACTED]->(owner:Owner)\\n                RETURN node.make + ' - ' + type(r) + ' -> ' + owner.name AS output\\n                UNION ALL\\n                WITH node\\n                MATCH (node)-[r:HAS_CHASSIS]->(chassis:Chassis)\\n                RETURN node.make + ' - ' + type(r) + ' -> ' + chassis.id AS output\\n                UNION ALL\\n                WITH node\\n                MATCH (node)-[r:ACQUIRED_BY]->(company:Company)\\n                RETURN node.make + ' - ' + type(r) + ' -> ' + company.name AS output\\n                UNION ALL\\n                WITH node\\n                MATCH (node)-[r:DEVELOPED]->(technology:Technology)\\n                RETURN node.make + ' - ' + type(r) + ' -> ' + technology.name AS output\\n                UNION ALL\\n                WITH node\\n                MATCH (node)-[r:LEADS_TO]->(incident:Incident)\\n                RETURN node.make + ' - ' + type(r) + ' -> ' + incident.description AS output\\n                UNION ALL\\n                WITH node\\n                MATCH (node)-[r:CAUSES]->(fire:Fire)\\n                RETURN node.make + ' - ' + type(r) + ' -> ' + fire.name AS output\\n                UNION ALL\\n                WITH node\\n                MATCH (node)-[r:SAME_AS]->(company:Company)\\n                RETURN node.make + ' - ' + type(r) + ' -> ' + company.name AS output\\n            }\\n            RETURN output LIMIT 50\\n            \"\n",
            "WARNING:neo4j.notifications:Received notification from DBMS server: {severity: WARNING} {code: Neo.ClientNotification.Statement.UnknownRelationshipTypeWarning} {category: UNRECOGNIZED} {title: The provided relationship type is not in the database.} {description: One of the relationship types in your query is not available in the database, make sure you didn't misspell it or that the label is available when you run this statement in your application (the missing relationship type is: CONTACTED)} {position: line: 10, column: 33, offset: 377} for query: \"\\n            CALL db.index.fulltext.queryNodes('entity', $query, {limit:5})\\n            YIELD node, score\\n            CALL {\\n                WITH node\\n                MATCH (node)-[r:MANUFACTURES]->(model:Model)\\n                RETURN node.make + ' - ' + type(r) + ' -> ' + model.id AS output\\n                UNION ALL\\n                WITH node\\n                MATCH (node)-[r:CONTACTED]->(owner:Owner)\\n                RETURN node.make + ' - ' + type(r) + ' -> ' + owner.name AS output\\n                UNION ALL\\n                WITH node\\n                MATCH (node)-[r:HAS_CHASSIS]->(chassis:Chassis)\\n                RETURN node.make + ' - ' + type(r) + ' -> ' + chassis.id AS output\\n                UNION ALL\\n                WITH node\\n                MATCH (node)-[r:ACQUIRED_BY]->(company:Company)\\n                RETURN node.make + ' - ' + type(r) + ' -> ' + company.name AS output\\n                UNION ALL\\n                WITH node\\n                MATCH (node)-[r:DEVELOPED]->(technology:Technology)\\n                RETURN node.make + ' - ' + type(r) + ' -> ' + technology.name AS output\\n                UNION ALL\\n                WITH node\\n                MATCH (node)-[r:LEADS_TO]->(incident:Incident)\\n                RETURN node.make + ' - ' + type(r) + ' -> ' + incident.description AS output\\n                UNION ALL\\n                WITH node\\n                MATCH (node)-[r:CAUSES]->(fire:Fire)\\n                RETURN node.make + ' - ' + type(r) + ' -> ' + fire.name AS output\\n                UNION ALL\\n                WITH node\\n                MATCH (node)-[r:SAME_AS]->(company:Company)\\n                RETURN node.make + ' - ' + type(r) + ' -> ' + company.name AS output\\n            }\\n            RETURN output LIMIT 50\\n            \"\n",
            "WARNING:neo4j.notifications:Received notification from DBMS server: {severity: WARNING} {code: Neo.ClientNotification.Statement.UnknownLabelWarning} {category: UNRECOGNIZED} {title: The provided label is not in the database.} {description: One of the labels in your query is not available in the database, make sure you didn't misspell it or that the label is available when you run this statement in your application (the missing label name is: Chassis)} {position: line: 14, column: 56, offset: 593} for query: \"\\n            CALL db.index.fulltext.queryNodes('entity', $query, {limit:5})\\n            YIELD node, score\\n            CALL {\\n                WITH node\\n                MATCH (node)-[r:MANUFACTURES]->(model:Model)\\n                RETURN node.make + ' - ' + type(r) + ' -> ' + model.id AS output\\n                UNION ALL\\n                WITH node\\n                MATCH (node)-[r:CONTACTED]->(owner:Owner)\\n                RETURN node.make + ' - ' + type(r) + ' -> ' + owner.name AS output\\n                UNION ALL\\n                WITH node\\n                MATCH (node)-[r:HAS_CHASSIS]->(chassis:Chassis)\\n                RETURN node.make + ' - ' + type(r) + ' -> ' + chassis.id AS output\\n                UNION ALL\\n                WITH node\\n                MATCH (node)-[r:ACQUIRED_BY]->(company:Company)\\n                RETURN node.make + ' - ' + type(r) + ' -> ' + company.name AS output\\n                UNION ALL\\n                WITH node\\n                MATCH (node)-[r:DEVELOPED]->(technology:Technology)\\n                RETURN node.make + ' - ' + type(r) + ' -> ' + technology.name AS output\\n                UNION ALL\\n                WITH node\\n                MATCH (node)-[r:LEADS_TO]->(incident:Incident)\\n                RETURN node.make + ' - ' + type(r) + ' -> ' + incident.description AS output\\n                UNION ALL\\n                WITH node\\n                MATCH (node)-[r:CAUSES]->(fire:Fire)\\n                RETURN node.make + ' - ' + type(r) + ' -> ' + fire.name AS output\\n                UNION ALL\\n                WITH node\\n                MATCH (node)-[r:SAME_AS]->(company:Company)\\n                RETURN node.make + ' - ' + type(r) + ' -> ' + company.name AS output\\n            }\\n            RETURN output LIMIT 50\\n            \"\n"
          ]
        },
        {
          "output_type": "stream",
          "name": "stdout",
          "text": [
            "Response from Neo4j: []\n",
            "\n"
          ]
        }
      ]
    },
    {
      "cell_type": "markdown",
      "source": [
        "structure retriever not working properly,\n",
        "I have to learn cypher and change the query\n"
      ],
      "metadata": {
        "id": "c1ws9pfuqtJF"
      }
    },
    {
      "cell_type": "code",
      "source": [
        "_template = \"\"\"Given the following conversation and a follow up question, rephrase the follow up question to be a standalone question,\n",
        "in its original language.\n",
        "Chat History:\n",
        "{chat_history}\n",
        "Follow Up Input: {question}\n",
        "Standalone question:\"\"\""
      ],
      "metadata": {
        "id": "nDLnOXBTBFaf"
      },
      "execution_count": 159,
      "outputs": []
    },
    {
      "cell_type": "code",
      "source": [
        "CONDENSE_QUESTION_PROMPT = PromptTemplate.from_template(_template)"
      ],
      "metadata": {
        "id": "hozfZicpBG2G"
      },
      "execution_count": 160,
      "outputs": []
    },
    {
      "cell_type": "code",
      "source": [
        "def _format_chat_history(chat_history: List[Tuple[str, str]]) -> List:\n",
        "    buffer = []\n",
        "    for human, ai in chat_history:\n",
        "        buffer.append(HumanMessage(content=human))\n",
        "        buffer.append(AIMessage(content=ai))\n",
        "    return buffer"
      ],
      "metadata": {
        "id": "A9Oi3AEeBIPf"
      },
      "execution_count": 161,
      "outputs": []
    },
    {
      "cell_type": "code",
      "source": [
        "_search_query = RunnableBranch(\n",
        "    (\n",
        "        RunnableLambda(lambda x: bool(x.get(\"chat_history\"))).with_config(\n",
        "            run_name=\"HasChatHistoryCheck\"\n",
        "        ),\n",
        "        RunnablePassthrough.assign(\n",
        "            chat_history=lambda x: _format_chat_history(x[\"chat_history\"])\n",
        "        )\n",
        "        | CONDENSE_QUESTION_PROMPT\n",
        "        | llm\n",
        "        | StrOutputParser(),\n",
        "    ),\n",
        "\n",
        "    RunnableLambda(lambda x : x[\"question\"]),\n",
        ")"
      ],
      "metadata": {
        "id": "vXV65bjDBJwO"
      },
      "execution_count": 162,
      "outputs": []
    },
    {
      "cell_type": "code",
      "source": [
        "template = \"\"\"Answer the question based only on the following context:\n",
        "{context}\n",
        "\n",
        "Question: {question}\n",
        "generate a detailed report on that issue.\n",
        "Answer:\"\"\""
      ],
      "metadata": {
        "id": "zuVyoD1iBLgt"
      },
      "execution_count": 163,
      "outputs": []
    },
    {
      "cell_type": "code",
      "source": [
        "prompt = ChatPromptTemplate.from_template(template)"
      ],
      "metadata": {
        "id": "ehex9TRGBM4m"
      },
      "execution_count": 164,
      "outputs": []
    },
    {
      "cell_type": "code",
      "source": [
        "chain = (\n",
        "    RunnableParallel(\n",
        "        {\n",
        "            \"context\": _search_query | retriever,\n",
        "            \"question\": RunnablePassthrough(),\n",
        "        }\n",
        "    )\n",
        "    | prompt\n",
        "    | llm\n",
        "    | StrOutputParser()\n",
        ")"
      ],
      "metadata": {
        "id": "UI6LVwkpBOOA"
      },
      "execution_count": 165,
      "outputs": []
    },
    {
      "cell_type": "code",
      "source": [
        "print(chain.invoke({\"question\": \"what is the fost frequet issues with car?\"}))"
      ],
      "metadata": {
        "colab": {
          "base_uri": "https://localhost:8080/"
        },
        "id": "GZAq-jz3BOrn",
        "outputId": "ba8dfb47-fc12-49d7-d62a-6f185dd780dc"
      },
      "execution_count": 166,
      "outputs": [
        {
          "output_type": "stream",
          "name": "stdout",
          "text": [
            "Search query: what is the fost frequet issues with car?\n"
          ]
        },
        {
          "output_type": "stream",
          "name": "stderr",
          "text": [
            "WARNING:neo4j.notifications:Received notification from DBMS server: {severity: WARNING} {code: Neo.ClientNotification.Statement.FeatureDeprecationWarning} {category: DEPRECATION} {title: This feature is deprecated and will be removed in future versions.} {description: CALL subquery without a variable scope clause is now deprecated. Use CALL (node, node) { ... }} {position: line: 3, column: 13, offset: 105} for query: \"CALL db.index.fulltext.queryNodes('entity', $query, {limit:50})\\n            YIELD node,score\\n            CALL {\\n              WITH node\\n              MATCH (node)-[r:!MENTIONS]->(neighbor)\\n              RETURN node.id + ' - ' + type(r) + ' -> ' + neighbor.id AS output\\n              UNION ALL\\n              WITH node\\n              MATCH (node)<-[r:!MENTIONS]-(neighbor)\\n              RETURN neighbor.id + ' - ' + type(r) + ' -> ' +  node.id AS output\\n            }\\n            RETURN output LIMIT 50\\n            \"\n",
            "WARNING:neo4j.notifications:Received notification from DBMS server: {severity: WARNING} {code: Neo.ClientNotification.Statement.UnknownRelationshipTypeWarning} {category: UNRECOGNIZED} {title: The provided relationship type is not in the database.} {description: One of the relationship types in your query is not available in the database, make sure you didn't misspell it or that the label is available when you run this statement in your application (the missing relationship type is: MENTIONS)} {position: line: 5, column: 32, offset: 167} for query: \"CALL db.index.fulltext.queryNodes('entity', $query, {limit:50})\\n            YIELD node,score\\n            CALL {\\n              WITH node\\n              MATCH (node)-[r:!MENTIONS]->(neighbor)\\n              RETURN node.id + ' - ' + type(r) + ' -> ' + neighbor.id AS output\\n              UNION ALL\\n              WITH node\\n              MATCH (node)<-[r:!MENTIONS]-(neighbor)\\n              RETURN neighbor.id + ' - ' + type(r) + ' -> ' +  node.id AS output\\n            }\\n            RETURN output LIMIT 50\\n            \"\n",
            "WARNING:neo4j.notifications:Received notification from DBMS server: {severity: WARNING} {code: Neo.ClientNotification.Statement.UnknownRelationshipTypeWarning} {category: UNRECOGNIZED} {title: The provided relationship type is not in the database.} {description: One of the relationship types in your query is not available in the database, make sure you didn't misspell it or that the label is available when you run this statement in your application (the missing relationship type is: MENTIONS)} {position: line: 9, column: 33, offset: 349} for query: \"CALL db.index.fulltext.queryNodes('entity', $query, {limit:50})\\n            YIELD node,score\\n            CALL {\\n              WITH node\\n              MATCH (node)-[r:!MENTIONS]->(neighbor)\\n              RETURN node.id + ' - ' + type(r) + ' -> ' + neighbor.id AS output\\n              UNION ALL\\n              WITH node\\n              MATCH (node)<-[r:!MENTIONS]-(neighbor)\\n              RETURN neighbor.id + ' - ' + type(r) + ' -> ' +  node.id AS output\\n            }\\n            RETURN output LIMIT 50\\n            \"\n",
            "WARNING:neo4j.notifications:Received notification from DBMS server: {severity: WARNING} {code: Neo.ClientNotification.Statement.FeatureDeprecationWarning} {category: DEPRECATION} {title: This feature is deprecated and will be removed in future versions.} {description: CALL subquery without a variable scope clause is now deprecated. Use CALL () { ... }} {position: line: 1, column: 1, offset: 0} for query: \"CALL { CALL db.index.vector.queryNodes($index, $k, $embedding) YIELD node, score WITH collect({node:node, score:score}) AS nodes, max(score) AS max UNWIND nodes AS n RETURN n.node AS node, (n.score / max) AS score UNION CALL db.index.fulltext.queryNodes($keyword_index, $query, {limit: $k}) YIELD node, score WITH collect({node:node, score:score}) AS nodes, max(score) AS max UNWIND nodes AS n RETURN n.node AS node, (n.score / max) AS score } WITH node, max(score) AS score ORDER BY score DESC LIMIT $k RETURN reduce(str='', k IN ['text'] | str + '\\\\n' + k + ': ' + coalesce(node[k], '')) AS text, node {.*, `embedding`: Null, id: Null, `text`: Null} AS metadata, score\"\n"
          ]
        },
        {
          "output_type": "stream",
          "name": "stdout",
          "text": [
            "Based on the provided context, it seems that there is no structured or unstructured data available to generate a report on the most frequent issues with cars. However, I can provide a general report based on common car problems.\n",
            "\n",
            "**Report: Most Frequent Issues with Cars**\n",
            "\n",
            "Introduction:\n",
            "Cars are complex machines that can experience various issues, affecting their performance, safety, and overall reliability. In this report, we will discuss the most frequent issues with cars, based on general knowledge and common problems reported by car owners.\n",
            "\n",
            "**Top 10 Most Frequent Issues with Cars:**\n",
            "\n",
            "1. **Battery Problems**: Dead batteries, faulty battery terminals, and battery drain are common issues that can leave car owners stranded.\n",
            "2. **Engine Oil Leaks**: Leaks from the engine, oil pan, or valve cover gasket can cause engine damage and lead to costly repairs.\n",
            "3. **Brake Issues**: Worn-out brake pads, warped rotors, and faulty brake calipers can compromise safety and require immediate attention.\n",
            "4. **Transmission Problems**: Faulty transmission solenoids, worn-out clutch packs, and low transmission fluid levels can cause shifting issues and damage the transmission.\n",
            "5. **Air Conditioning Malfunctions**: Leaks, clogged condenser coils, and faulty compressors can make driving uncomfortable and lead to costly repairs.\n",
            "6. **Electrical System Issues**: Faulty wiring, blown fuses, and malfunctioning sensors can cause a range of problems, from minor annoyances to safety hazards.\n",
            "7. **Suspension and Steering Problems**: Worn-out ball joints, loose tie rods, and faulty steering gear can affect handling and safety.\n",
            "8. **Cooling System Issues**: Leaks, clogged radiators, and faulty water pumps can cause overheating and engine damage.\n",
            "9. **Fuel System Problems**: Clogged fuel filters, faulty fuel injectors, and low fuel pressure can affect performance and fuel efficiency.\n",
            "10. **Tire Issues**: Worn-out tires, uneven tire wear, and improper tire inflation can compromise safety and handling.\n",
            "\n",
            "**Conclusion:**\n",
            "These are some of the most frequent issues with cars, based on general knowledge and common problems reported by car owners. Regular maintenance, inspections, and prompt repairs can help prevent or mitigate these issues, ensuring a safe and reliable driving experience.\n",
            "\n",
            "**Recommendations:**\n",
            "\n",
            "* Regularly check and maintain the battery, engine oil, brakes, transmission, air conditioning, electrical system, suspension, steering, cooling system, fuel system, and tires.\n",
            "* Address any issues promptly to prevent further damage and costly repairs.\n",
            "* Consider consulting a mechanic or car expert for personalized advice and guidance.\n",
            "\n",
            "Please note that this report is based on general knowledge and may not be specific to your situation. If you have any concerns or questions, please consult a qualified mechanic or car expert.\n"
          ]
        }
      ]
    },
    {
      "cell_type": "markdown",
      "source": [
        "# The retriver is not working properly so I have to go with graphCypherQaChain but it dose not works properly with 8b model so I have to used 70B model and it works great\n"
      ],
      "metadata": {
        "id": "O4ecBnuAzS4e"
      }
    },
    {
      "cell_type": "code",
      "source": [
        "from langchain_groq import ChatGroq\n",
        "\n",
        "llm = ChatGroq(\n",
        "    model=\"llama3-groq-70b-8192-tool-use-preview\",\n",
        "    temperature=1,\n",
        "    max_tokens=None,\n",
        "    timeout=None,\n",
        "    max_retries=10,\n",
        "    # other params...\n",
        ")"
      ],
      "metadata": {
        "id": "DNo3A03VjVJF"
      },
      "execution_count": 199,
      "outputs": []
    },
    {
      "cell_type": "markdown",
      "source": [
        "# Now GraphCypherQAChain WORKS FINE IN MOST OF THE CASE AND IT SOLVES THE PROBLEM OF NORMAL RAG AND HAS OVERALL PICTURE OF COMPLETE DATA UNLIKE RAG WHICH JUST SEARCHES BASED ON SIMILARITY\n"
      ],
      "metadata": {
        "id": "AsCuBj3Br9kU"
      }
    },
    {
      "cell_type": "code",
      "source": [],
      "metadata": {
        "id": "CkT50ytar8Zb"
      },
      "execution_count": null,
      "outputs": []
    },
    {
      "cell_type": "code",
      "source": [
        "from langchain.chains import GraphCypherQAChain\n",
        "\n",
        "chain = GraphCypherQAChain.from_llm(graph=graph, llm=llm, verbose=True, allow_dangerous_requests=True)\n",
        "response = chain.invoke({\"query\": \"which manufacture have more issues\"})\n",
        "print(response)"
      ],
      "metadata": {
        "colab": {
          "base_uri": "https://localhost:8080/"
        },
        "id": "cKCadesEjNuK",
        "outputId": "66cf117d-d589-4bfa-cc15-76d2fc7a9dfa"
      },
      "execution_count": 208,
      "outputs": [
        {
          "output_type": "stream",
          "name": "stdout",
          "text": [
            "\n",
            "\n",
            "\u001b[1m> Entering new GraphCypherQAChain chain...\u001b[0m\n",
            "Generated Cypher:\n",
            "\u001b[32;1m\u001b[1;3mmatch (c:CarManufacturer)-[:MAKE]->(m:Model)-[:HAS_ISSUE]->(i:Issue) return c.make, count(i) as issues_count order by issues_count desc\u001b[0m\n",
            "Full Context:\n",
            "\u001b[32;1m\u001b[1;3m[{'c.make': 'ford', 'issues_count': 7280}, {'c.make': 'toyota', 'issues_count': 2339}]\u001b[0m\n",
            "\n",
            "\u001b[1m> Finished chain.\u001b[0m\n",
            "{'query': 'which manufacture have more issues', 'result': \"Ford has more issues than Toyota, with a total of 7280 issues compared to Toyota's 2339 issues.\"}\n"
          ]
        }
      ]
    },
    {
      "cell_type": "code",
      "source": [
        "response"
      ],
      "metadata": {
        "colab": {
          "base_uri": "https://localhost:8080/"
        },
        "id": "EWEhdd6BkzES",
        "outputId": "7e648c5d-0cef-4655-bd47-bde9c3aa7e75"
      },
      "execution_count": 209,
      "outputs": [
        {
          "output_type": "execute_result",
          "data": {
            "text/plain": [
              "{'query': 'which manufacture have more issues',\n",
              " 'result': \"Ford has more issues than Toyota, with a total of 7280 issues compared to Toyota's 2339 issues.\"}"
            ]
          },
          "metadata": {},
          "execution_count": 209
        }
      ]
    },
    {
      "cell_type": "markdown",
      "source": [
        "IT HAS OVERALL PICTURE OF COMPLETE DATASET"
      ],
      "metadata": {
        "id": "I4OYZRgGyG2i"
      }
    },
    {
      "cell_type": "code",
      "source": [
        "q2 = chain.invoke({\"query\": \"which manufacture have more issues and also tell me about the most frequent issue with all manufacture one by one\"})\n",
        "response"
      ],
      "metadata": {
        "colab": {
          "base_uri": "https://localhost:8080/"
        },
        "id": "f53CaUd7mKsS",
        "outputId": "a7078ae1-855c-4757-adb5-ca0cc5fb350a"
      },
      "execution_count": 210,
      "outputs": [
        {
          "output_type": "stream",
          "name": "stdout",
          "text": [
            "\n",
            "\n",
            "\u001b[1m> Entering new GraphCypherQAChain chain...\u001b[0m\n",
            "Generated Cypher:\n",
            "\u001b[32;1m\u001b[1;3mMATCH (c:CarManufacturer)-[:MAKE]->(m:Model)-[:HAS_ISSUE]->(i:Issue)-[:POSES_RISK]->(r:Risk)-[:HAS_ACTION]->(a:ActionTaken) RETURN c.make as Car_Manufacturer, COUNT(i) as Issues_Count, i.description as Issue_Description ORDER BY Issues_Count DESC\u001b[0m\n",
            "Full Context:\n",
            "\u001b[32;1m\u001b[1;3m[]\u001b[0m\n",
            "\n",
            "\u001b[1m> Finished chain.\u001b[0m\n"
          ]
        },
        {
          "output_type": "execute_result",
          "data": {
            "text/plain": [
              "{'query': 'which manufacture have more issues',\n",
              " 'result': \"Ford has more issues than Toyota, with a total of 7280 issues compared to Toyota's 2339 issues.\"}"
            ]
          },
          "metadata": {},
          "execution_count": 210
        }
      ]
    },
    {
      "cell_type": "markdown",
      "source": [],
      "metadata": {
        "id": "8LM4JGn9yFPT"
      }
    },
    {
      "cell_type": "code",
      "source": [
        "q3 = chain.invoke({\"query\": \"in which year most of the issues occured and tell me the exact number\"})\n",
        "q3"
      ],
      "metadata": {
        "colab": {
          "base_uri": "https://localhost:8080/"
        },
        "id": "pbqfPz0XmazW",
        "outputId": "1c1491a7-3c02-4484-ab73-04db554fd824"
      },
      "execution_count": 213,
      "outputs": [
        {
          "output_type": "stream",
          "name": "stdout",
          "text": [
            "\n",
            "\n",
            "\u001b[1m> Entering new GraphCypherQAChain chain...\u001b[0m\n",
            "Generated Cypher:\n",
            "\u001b[32;1m\u001b[1;3mMATCH (c:CarManufacturer)-[:MAKE]->(m:Model)-[:HAS_ISSUE]->(i:Issue) RETURN m.year AS year, COUNT(i) AS count ORDER BY count DESC LIMIT 1\u001b[0m\n",
            "Full Context:\n",
            "\u001b[32;1m\u001b[1;3m[{'year': 2006, 'count': 342}]\u001b[0m\n",
            "\n",
            "\u001b[1m> Finished chain.\u001b[0m\n"
          ]
        },
        {
          "output_type": "execute_result",
          "data": {
            "text/plain": [
              "{'query': 'in which year most of the issues occured and tell me the exact number',\n",
              " 'result': 'The year with the most issues is 2006, and the exact number of issues in that year is 342.'}"
            ]
          },
          "metadata": {},
          "execution_count": 213
        }
      ]
    },
    {
      "cell_type": "code",
      "source": [
        "q3 = chain.invoke({\"query\": \"what are the top two issue in 2006\"})\n",
        "q3"
      ],
      "metadata": {
        "colab": {
          "base_uri": "https://localhost:8080/"
        },
        "id": "zZYRAZJemmRw",
        "outputId": "6209318f-ba57-4d5e-b99f-c5d8d529d51f"
      },
      "execution_count": 214,
      "outputs": [
        {
          "output_type": "stream",
          "name": "stdout",
          "text": [
            "\n",
            "\n",
            "\u001b[1m> Entering new GraphCypherQAChain chain...\u001b[0m\n",
            "Generated Cypher:\n",
            "\u001b[32;1m\u001b[1;3mMATCH (c:CarManufacturer)-[:MAKE]->(m:Model)-[:HAS_ISSUE]->(i:Issue) WHERE m.year = 2006 RETURN i.description LIMIT 2\u001b[0m\n",
            "Full Context:\n",
            "\u001b[32;1m\u001b[1;3m[{'i.description': 'ON CERTAIN FRONT WHEEL DRIVE HYBRID VEHICLES, THE INTERMEDIATE SHAFT MAY NOT HAVE BEEN PROPERLY HEAT TREATED AND MAY FRACTURE WHILE THE VEHICLE IS BEING DRIVEN.  '}, {'i.description': 'ON CERTAIN PASSENGER VEHICLES CURRENTLY REGISTERED IN THE FOLLOWING STATES:  ALASKA, COLORADO, CONNECTICUT, DELAWARE, IDAHO, ILLINOIS, INDIANA, IOWA, KANSAS, KENTUCKY, MAINE, MARYLAND, MASSACHUSETTS, MICHIGAN, MINNESOTA, MISSOURI, MONTANA, NEBRASKA, NEW HAMPSHIRE, NEW JERSEY, NEW YORK, NORTH DAKOTA, OHIO, PENNSYLVANIA, RHODE ISLAND, SOUTH DAKOTA, UTAH, VERMONT, WEST VIRGINIA, WISCONSIN, AND WYOMING.  THE SIDE DOOR LATCH MECHANISMS MAY EXPERIENCE WATER INTRUSION ALLOWING THE LATCH MECHANISM TO FREEZE IN COLD WEATHER. '}]\u001b[0m\n",
            "\n",
            "\u001b[1m> Finished chain.\u001b[0m\n"
          ]
        },
        {
          "output_type": "execute_result",
          "data": {
            "text/plain": [
              "{'query': 'what are the top two issue in 2006',\n",
              " 'result': 'The top two issues in 2006 are the fracture of the intermediate shaft in certain front-wheel drive hybrid vehicles and the water intrusion in side door latch mechanisms in certain passenger vehicles.'}"
            ]
          },
          "metadata": {},
          "execution_count": 214
        }
      ]
    },
    {
      "cell_type": "code",
      "source": [
        "q5 = chain.invoke({\"query\": \"what is the oldest year of data you have\"})\n",
        "q5"
      ],
      "metadata": {
        "colab": {
          "base_uri": "https://localhost:8080/"
        },
        "id": "wmY5PoE0mp2R",
        "outputId": "d8c4b9b8-492e-42e7-cde2-a959aa9cce95"
      },
      "execution_count": 219,
      "outputs": [
        {
          "output_type": "stream",
          "name": "stdout",
          "text": [
            "\n",
            "\n",
            "\u001b[1m> Entering new GraphCypherQAChain chain...\u001b[0m\n",
            "Generated Cypher:\n",
            "\u001b[32;1m\u001b[1;3mMATCH (m:Model) RETURN m.year ORDER BY m.year LIMIT 1\u001b[0m\n",
            "Full Context:\n",
            "\u001b[32;1m\u001b[1;3m[{'m.year': 1965}]\u001b[0m\n",
            "\n",
            "\u001b[1m> Finished chain.\u001b[0m\n"
          ]
        },
        {
          "output_type": "execute_result",
          "data": {
            "text/plain": [
              "{'query': 'what is the oldest year of data you have',\n",
              " 'result': 'I have data as old as 1965.'}"
            ]
          },
          "metadata": {},
          "execution_count": 219
        }
      ]
    },
    {
      "cell_type": "code",
      "source": [
        "\n",
        "\n",
        "q6 = chain.invoke({\"query\": \"what is the issue with ford mustang\"})\n",
        "q6"
      ],
      "metadata": {
        "colab": {
          "base_uri": "https://localhost:8080/"
        },
        "id": "ybQZYihnnFs2",
        "outputId": "9daa6674-e321-4477-fa5e-6de63099a725"
      },
      "execution_count": 221,
      "outputs": [
        {
          "output_type": "stream",
          "name": "stdout",
          "text": [
            "\n",
            "\n",
            "\u001b[1m> Entering new GraphCypherQAChain chain...\u001b[0m\n",
            "Generated Cypher:\n",
            "\u001b[32;1m\u001b[1;3mMATCH p=(cm:CarManufacturer {make: \"Ford\"})-[:MAKE]->(m:Model {model: \"Mustang\"})-[:HAS_ISSUE]->(i:Issue) RETURN i.description\u001b[0m\n",
            "Full Context:\n",
            "\u001b[32;1m\u001b[1;3m[]\u001b[0m\n",
            "\n",
            "\u001b[1m> Finished chain.\u001b[0m\n"
          ]
        },
        {
          "output_type": "execute_result",
          "data": {
            "text/plain": [
              "{'query': 'what is the issue with ford mustang',\n",
              " 'result': \"I don't know the answer.\"}"
            ]
          },
          "metadata": {},
          "execution_count": 221
        }
      ]
    },
    {
      "cell_type": "code",
      "source": [
        "q7 = chain.invoke({\"query\": \"what are the issue with ford focus\"})\n",
        "q7"
      ],
      "metadata": {
        "colab": {
          "base_uri": "https://localhost:8080/"
        },
        "id": "T3R5OHJJnt4y",
        "outputId": "46db50b6-6f2c-4ada-acc4-e5b61867a105"
      },
      "execution_count": 222,
      "outputs": [
        {
          "output_type": "stream",
          "name": "stdout",
          "text": [
            "\n",
            "\n",
            "\u001b[1m> Entering new GraphCypherQAChain chain...\u001b[0m\n",
            "Generated Cypher:\n",
            "\u001b[32;1m\u001b[1;3mMATCH (c:CarManufacturer{make:\"Ford\"})-[:MAKE]->(m:Model)-[:HAS_ISSUE]->(i:Issue) RETURN i.description\u001b[0m\n",
            "Full Context:\n",
            "\u001b[32;1m\u001b[1;3m[]\u001b[0m\n",
            "\n",
            "\u001b[1m> Finished chain.\u001b[0m\n"
          ]
        },
        {
          "output_type": "execute_result",
          "data": {
            "text/plain": [
              "{'query': 'what are the issue with ford focus',\n",
              " 'result': 'The Ford Focus has faced several issues over the years, including transmission problems, electrical system faults, and brake issues.'}"
            ]
          },
          "metadata": {},
          "execution_count": 222
        }
      ]
    },
    {
      "cell_type": "code",
      "source": [
        "q8 = chain.invoke({\"query\": \"which model has least number of issues reported\"})\n",
        "q8"
      ],
      "metadata": {
        "colab": {
          "base_uri": "https://localhost:8080/"
        },
        "id": "t90c6Gt5n-r3",
        "outputId": "08caa049-5668-4c92-b2d5-abe269349106"
      },
      "execution_count": 223,
      "outputs": [
        {
          "output_type": "stream",
          "name": "stdout",
          "text": [
            "\n",
            "\n",
            "\u001b[1m> Entering new GraphCypherQAChain chain...\u001b[0m\n",
            "Generated Cypher:\n",
            "\u001b[32;1m\u001b[1;3mmatch p=(c:CarManufacturer)-[:MAKE]->(m:Model)-[:HAS_ISSUE]->(i:Issue) return m.model as Model, count(i) as IssueCount order by IssueCount asc limit 1\u001b[0m\n",
            "Full Context:\n",
            "\u001b[32;1m\u001b[1;3m[{'Model': 'FOCUS SVT', 'IssueCount': 1}]\u001b[0m\n",
            "\n",
            "\u001b[1m> Finished chain.\u001b[0m\n"
          ]
        },
        {
          "output_type": "execute_result",
          "data": {
            "text/plain": [
              "{'query': 'which model has least number of issues reported',\n",
              " 'result': 'FOCUS SVT has the least number of issues reported.'}"
            ]
          },
          "metadata": {},
          "execution_count": 223
        }
      ]
    },
    {
      "cell_type": "code",
      "source": [],
      "metadata": {
        "id": "UdK9ddQBoEbr"
      },
      "execution_count": null,
      "outputs": []
    },
    {
      "cell_type": "markdown",
      "source": [
        "# There are some case when the query is very specific to a particular issue then the graph rag fails so there can be two solution\n",
        "\n",
        "# 1st> make retriever more robust but since I have given 3 days so I am not able to learn Cypher\n",
        "\n",
        "# 2nd> I can combine normal RAG and GRAPH RAG both together and make a workflow which will answer both specific queries and also it will have overall picture of the data\n",
        "\n",
        "but I am submitting it till this much and I will update this by combining both together in 1-2 days\n"
      ],
      "metadata": {
        "id": "m5WGSRg1sais"
      }
    }
  ]
}